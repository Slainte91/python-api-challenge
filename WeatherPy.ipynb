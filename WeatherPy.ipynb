{
 "cells": [
  {
   "cell_type": "markdown",
   "metadata": {},
   "source": [
    "# WeatherPy\n",
    "----\n",
    "\n",
    "#### Note\n",
    "* Instructions have been included for each segment. You do not have to follow them exactly, but they are included to help you think through the steps."
   ]
  },
  {
   "cell_type": "code",
   "execution_count": 3,
   "metadata": {
    "scrolled": true
   },
   "outputs": [],
   "source": [
    "# Dependencies and Setup\n",
    "import matplotlib.pyplot as plt\n",
    "import pandas as pd\n",
    "import numpy as np\n",
    "import requests\n",
    "import time\n",
    "import scipy.stats as st\n",
    "\n",
    "# Import API key\n",
    "from api_keys import weather_api_key\n",
    "\n",
    "# Incorporated citipy to determine city based on latitude and longitude\n",
    "from citipy import citipy\n",
    "\n",
    "# Output File (CSV)\n",
    "output_data_file = \"output_data/cities.csv\"\n",
    "\n",
    "# Range of latitudes and longitudes\n",
    "lat_range = (-90, 90)\n",
    "lng_range = (-180, 180)"
   ]
  },
  {
   "cell_type": "markdown",
   "metadata": {},
   "source": [
    "## Generate Cities List"
   ]
  },
  {
   "cell_type": "code",
   "execution_count": 4,
   "metadata": {},
   "outputs": [
    {
     "data": {
      "text/plain": [
       "622"
      ]
     },
     "execution_count": 4,
     "metadata": {},
     "output_type": "execute_result"
    }
   ],
   "source": [
    "# List for holding lat_lngs and cities\n",
    "lat_lngs = []\n",
    "cities = []\n",
    "\n",
    "# Create a set of random lat and lng combinations\n",
    "lats = np.random.uniform(lat_range[0], lat_range[1], size=1500)\n",
    "lngs = np.random.uniform(lng_range[0], lng_range[1], size=1500)\n",
    "lat_lngs = zip(lats, lngs)\n",
    "\n",
    "# Identify nearest city for each lat, lng combination\n",
    "for lat_lng in lat_lngs:\n",
    "    city = citipy.nearest_city(lat_lng[0], lat_lng[1]).city_name\n",
    "    \n",
    "    # If the city is unique, then add it to a our cities list\n",
    "    if city not in cities:\n",
    "        cities.append(city)\n",
    "\n",
    "# Print the city count to confirm sufficient count\n",
    "len(cities)\n"
   ]
  },
  {
   "cell_type": "markdown",
   "metadata": {},
   "source": [
    "### Perform API Calls\n",
    "* Perform a weather check on each city using a series of successive API calls.\n",
    "* Include a print log of each city as it's being processed (with the city number and city name).\n"
   ]
  },
  {
   "cell_type": "code",
   "execution_count": null,
   "metadata": {},
   "outputs": [],
   "source": [
    "          "
   ]
  },
  {
   "cell_type": "code",
   "execution_count": 5,
   "metadata": {
    "scrolled": true
   },
   "outputs": [
    {
     "name": "stdout",
     "output_type": "stream",
     "text": [
      "Processed upernavik as number 1\n",
      "Processed hermanus as number 2\n",
      "Processed tasiilaq as number 3\n",
      "Processed vestmannaeyjar as number 4\n",
      "Processed yellowknife as number 5\n",
      "Processed aklavik as number 6\n",
      "Processed punta arenas as number 7\n",
      "Processed tuktoyaktuk as number 8\n",
      "Processed pisco as number 9\n",
      "Processed mataura as number 10\n",
      "Processed nizwa as number 11\n",
      "Processed avarua as number 12\n",
      "Processed puerto ayora as number 13\n",
      "Processed lompoc as number 14\n",
      "Processed rikitea as number 15\n",
      "Processed busselton as number 16\n",
      "illoqqortoormiut not found\n",
      "Processed srivardhan as number 17\n",
      "Processed ushuaia as number 18\n",
      "Processed vaini as number 19\n",
      "Processed cape town as number 20\n",
      "Processed ribeira grande as number 21\n",
      "mudyuga not found\n",
      "Processed arlington as number 22\n",
      "Processed ruwi as number 23\n",
      "Processed mar del plata as number 24\n",
      "Processed hilo as number 25\n",
      "Processed carnarvon as number 26\n",
      "Processed areosa as number 27\n",
      "Processed lebu as number 28\n",
      "Processed kulhudhuffushi as number 29\n",
      "Processed dikson as number 30\n",
      "Processed asfi as number 31\n",
      "Processed port alfred as number 32\n",
      "buariki not found\n",
      "Processed beatrice as number 33\n",
      "Processed kahului as number 34\n",
      "Processed shenzhen as number 35\n",
      "Processed barrow as number 36\n",
      "Processed vostok as number 37\n",
      "Processed yerbogachen as number 38\n",
      "Processed new norfolk as number 39\n",
      "Processed chokurdakh as number 40\n",
      "viligili not found\n",
      "aflu not found\n",
      "mys shmidta not found\n",
      "Processed mount gambier as number 41\n",
      "Processed talara as number 42\n",
      "taolanaro not found\n",
      "nizhneyansk not found\n",
      "Processed kavieng as number 43\n",
      "Processed languyan as number 44\n",
      "Processed chuy as number 45\n",
      "Processed srandakan as number 46\n",
      "Processed ekibastuz as number 47\n",
      "Processed gazojak as number 48\n",
      "Processed bluff as number 49\n",
      "Processed lichuan as number 50\n",
      "Processed qaanaaq as number 51\n",
      "Processed grindavik as number 52\n",
      "Processed mattru as number 53\n",
      "Processed san andres as number 54\n",
      "Processed bethel as number 55\n",
      "Processed kapaa as number 56\n",
      "Processed kolomak as number 57\n",
      "Processed jamestown as number 58\n",
      "Processed igarka as number 59\n",
      "Processed severo-kurilsk as number 60\n",
      "Processed ucluelet as number 61\n",
      "Processed le port as number 62\n",
      "grand centre not found\n",
      "Processed nova prata as number 63\n",
      "Processed dingle as number 64\n",
      "vaitupu not found\n",
      "Processed yuzhno-kurilsk as number 65\n",
      "Processed tomatlan as number 66\n",
      "Processed sitka as number 67\n",
      "Processed mackenzie as number 68\n",
      "Processed am timan as number 69\n",
      "longlac not found\n",
      "Processed xinyu as number 70\n",
      "Processed westport as number 71\n",
      "Processed khatanga as number 72\n",
      "Processed pinheiro machado as number 73\n",
      "Processed vao as number 74\n",
      "Processed hobart as number 75\n",
      "Processed san carlos de bariloche as number 76\n",
      "Processed bredasdorp as number 77\n",
      "Processed kodiak as number 78\n",
      "Processed albany as number 79\n",
      "Processed bonavista as number 80\n",
      "Processed valdivia as number 81\n",
      "Processed okhotsk as number 82\n",
      "Processed havoysund as number 83\n",
      "Processed shubarkuduk as number 84\n",
      "Processed paamiut as number 85\n",
      "Processed laguna as number 86\n",
      "Processed bambous virieux as number 87\n",
      "Processed kruisfontein as number 88\n",
      "Processed san patricio as number 89\n",
      "Processed east london as number 90\n",
      "toliary not found\n",
      "Processed bahia honda as number 91\n",
      "Processed havre-saint-pierre as number 92\n",
      "Processed alice springs as number 93\n",
      "Processed arraial do cabo as number 94\n",
      "Processed machilipatnam as number 95\n",
      "Processed rio grande as number 96\n",
      "Processed longyearbyen as number 97\n",
      "Processed victoria as number 98\n",
      "Processed ponta do sol as number 99\n",
      "Processed zykovo as number 100\n",
      "stoyba not found\n",
      "Processed san jose as number 101\n",
      "Processed neiafu as number 102\n",
      "Processed sao filipe as number 103\n",
      "Processed puro as number 104\n",
      "Processed amga as number 105\n",
      "Processed saint george as number 106\n",
      "Processed praia da vitoria as number 107\n",
      "Processed honningsvag as number 108\n",
      "Processed nikolskoye as number 109\n",
      "Processed san quintin as number 110\n",
      "Processed kaitangata as number 111\n",
      "Processed itarema as number 112\n",
      "Processed pocone as number 113\n",
      "Processed port elizabeth as number 114\n",
      "Processed ambon as number 115\n",
      "belushya guba not found\n",
      "Processed carsamba as number 116\n",
      "Processed danville as number 117\n",
      "Processed atuona as number 118\n",
      "Processed itaituba as number 119\n",
      "Processed port-gentil as number 120\n",
      "Processed pallipattu as number 121\n",
      "Processed ust-barguzin as number 122\n",
      "Processed port lincoln as number 123\n",
      "Processed hamilton as number 124\n",
      "Processed nanortalik as number 125\n",
      "Processed codrington as number 126\n",
      "rawannawi not found\n",
      "Processed mao as number 127\n",
      "Processed byron bay as number 128\n",
      "Processed anadyr as number 129\n",
      "barentsburg not found\n",
      "Processed udimskiy as number 130\n",
      "Processed tabuk as number 131\n",
      "Processed avera as number 132\n",
      "Processed choya as number 133\n",
      "Processed butaritari as number 134\n",
      "Processed padang as number 135\n",
      "Processed florianopolis as number 136\n",
      "Processed zhigansk as number 137\n",
      "Processed constantine as number 138\n",
      "Processed bathsheba as number 139\n",
      "palabuhanratu not found\n",
      "Processed borogontsy as number 140\n",
      "Processed guerrero negro as number 141\n",
      "Processed portland as number 142\n",
      "Processed fairbanks as number 143\n",
      "gurgan not found\n",
      "Processed la rioja as number 144\n",
      "Processed sur as number 145\n",
      "Processed paracuru as number 146\n",
      "Processed fort nelson as number 147\n",
      "Processed lincoln as number 148\n",
      "Processed pala as number 149\n",
      "Processed saint-philippe as number 150\n",
      "Processed dasoguz as number 151\n",
      "Processed muros as number 152\n",
      "grand river south east not found\n",
      "skalistyy not found\n",
      "Processed khorixas as number 153\n",
      "attawapiskat not found\n",
      "Processed santa cruz as number 154\n",
      "Processed arlit as number 155\n",
      "Processed batemans bay as number 156\n",
      "Processed nishihara as number 157\n",
      "Processed golaghat as number 158\n",
      "Processed belaya gora as number 159\n",
      "Processed lyuban as number 160\n",
      "Processed teknaf as number 161\n",
      "Processed grand gaube as number 162\n",
      "Processed tuatapere as number 163\n",
      "Processed saldanha as number 164\n",
      "Processed cidreira as number 165\n",
      "Processed surt as number 166\n",
      "Processed narsaq as number 167\n",
      "Processed toppenish as number 168\n",
      "Processed molteno as number 169\n",
      "Processed nadezhda as number 170\n",
      "Processed harper as number 171\n",
      "Processed bhum as number 172\n",
      "Processed hasaki as number 173\n",
      "Processed emerald as number 174\n",
      "Processed mayo as number 175\n",
      "Processed castro as number 176\n",
      "Processed lyskovo as number 177\n",
      "Processed torbay as number 178\n",
      "Processed skibbereen as number 179\n",
      "amderma not found\n",
      "Processed fortuna as number 180\n",
      "Processed yulara as number 181\n",
      "Processed mareeba as number 182\n",
      "Processed acapulco as number 183\n",
      "Processed huanan as number 184\n",
      "Processed saskylakh as number 185\n",
      "ondorhaan not found\n",
      "Processed ypsonas as number 186\n",
      "Processed mahebourg as number 187\n",
      "Processed kiunga as number 188\n",
      "Processed lagoa as number 189\n",
      "Processed baker city as number 190\n",
      "Processed bahia blanca as number 191\n",
      "Processed pokhara as number 192\n",
      "Processed hualmay as number 193\n",
      "Processed klyuchi as number 194\n",
      "Processed esperance as number 195\n",
      "Processed villa carlos paz as number 196\n",
      "Processed greenville as number 197\n",
      "Processed kitimat as number 198\n",
      "Processed katherine as number 199\n",
      "Processed coihaique as number 200\n",
      "Processed eyl as number 201\n",
      "Processed north bend as number 202\n",
      "Processed wukari as number 203\n",
      "Processed bulolo as number 204\n",
      "Processed chirilagua as number 205\n",
      "Processed balkhash as number 206\n",
      "Processed moron as number 207\n",
      "Processed sabha as number 208\n",
      "Processed dubrovnik as number 209\n",
      "Processed sinnamary as number 210\n",
      "Processed obihiro as number 211\n",
      "Processed stephenville as number 212\n",
      "Processed junction city as number 213\n",
      "Processed uddevalla as number 214\n",
      "sentyabrskiy not found\n",
      "Processed edson as number 215\n",
      "Processed strezhevoy as number 216\n",
      "Processed williams lake as number 217\n",
      "Processed hay river as number 218\n",
      "Processed tilichiki as number 219\n",
      "Processed huaidian as number 220\n",
      "Processed kupang as number 221\n",
      "Processed richards bay as number 222\n",
      "Processed tazovskiy as number 223\n",
      "Processed alta floresta as number 224\n",
      "Processed constitucion as number 225\n",
      "Processed ancud as number 226\n",
      "Processed coquimbo as number 227\n",
      "Processed vila franca do campo as number 228\n",
      "Processed bubaque as number 229\n",
      "Processed carutapera as number 230\n",
      "Processed sambava as number 231\n",
      "Processed airai as number 232\n",
      "malwan not found\n",
      "tambul not found\n",
      "Processed puerto escondido as number 233\n"
     ]
    },
    {
     "name": "stdout",
     "output_type": "stream",
     "text": [
      "Processed campo verde as number 234\n",
      "marcona not found\n",
      "Processed ostrovnoy as number 235\n",
      "Processed slave lake as number 236\n",
      "Processed eydhafushi as number 237\n",
      "Processed karibib as number 238\n",
      "Processed mamlyutka as number 239\n",
      "Processed dudinka as number 240\n",
      "Processed chipinge as number 241\n",
      "Processed the valley as number 242\n",
      "Processed meulaboh as number 243\n",
      "Processed tairua as number 244\n",
      "Processed caravelas as number 245\n",
      "Processed saint-jean-port-joli as number 246\n",
      "Processed souillac as number 247\n",
      "Processed fjerritslev as number 248\n",
      "Processed shimoda as number 249\n",
      "Processed rawson as number 250\n",
      "Processed nome as number 251\n",
      "Processed mbini as number 252\n",
      "Processed tzucacab as number 253\n",
      "kedarnath not found\n",
      "Processed makuyuni as number 254\n",
      "Processed luderitz as number 255\n",
      "Processed mongagua as number 256\n",
      "Processed gidole as number 257\n",
      "Processed gondanglegi as number 258\n",
      "Processed klaksvik as number 259\n",
      "Processed marataizes as number 260\n",
      "Processed itacoatiara as number 261\n",
      "Processed touros as number 262\n",
      "Processed manaus as number 263\n",
      "Processed ariquemes as number 264\n",
      "Processed faanui as number 265\n",
      "Processed atar as number 266\n",
      "Processed alofi as number 267\n",
      "Processed pochutla as number 268\n",
      "Processed kon tum as number 269\n",
      "Processed morganton as number 270\n",
      "Processed mehamn as number 271\n",
      "kuche not found\n",
      "Processed erenhot as number 272\n",
      "Processed aasiaat as number 273\n",
      "Processed matagami as number 274\n",
      "Processed narasannapeta as number 275\n",
      "kerki not found\n",
      "Processed novo aripuana as number 276\n",
      "Processed kysyl-syr as number 277\n",
      "Processed thompson as number 278\n",
      "Processed sistranda as number 279\n",
      "Processed hami as number 280\n",
      "Processed antropovo as number 281\n",
      "Processed nantucket as number 282\n",
      "Processed leshan as number 283\n",
      "Processed georgetown as number 284\n",
      "Processed puerto ayacucho as number 285\n",
      "Processed robe as number 286\n",
      "Processed sokoni as number 287\n",
      "Processed mossendjo as number 288\n",
      "Processed myitkyina as number 289\n",
      "Processed ornes as number 290\n",
      "Processed salalah as number 291\n",
      "Processed camocim as number 292\n",
      "bolungarvik not found\n",
      "Processed nadym as number 293\n",
      "Processed talnakh as number 294\n",
      "Processed ishinomaki as number 295\n",
      "tumannyy not found\n",
      "Processed dalaba as number 296\n",
      "Processed albanel as number 297\n",
      "Processed shakawe as number 298\n",
      "Processed abu kamal as number 299\n",
      "Processed bonthe as number 300\n",
      "Processed kailua as number 301\n",
      "Processed najran as number 302\n",
      "Processed tual as number 303\n",
      "barbar not found\n",
      "Processed concordia as number 304\n",
      "Processed birecik as number 305\n",
      "Processed aksu as number 306\n",
      "Processed nago as number 307\n",
      "Processed gornopravdinsk as number 308\n",
      "Processed komsomolskiy as number 309\n",
      "Processed chernyshevskiy as number 310\n",
      "Processed jorochito as number 311\n",
      "Processed conceicao do araguaia as number 312\n",
      "Processed nioro as number 313\n",
      "Processed martil as number 314\n",
      "Processed grabovo as number 315\n",
      "Processed hithadhoo as number 316\n",
      "Processed pedreiras as number 317\n",
      "Processed tiznit as number 318\n",
      "Processed la ronge as number 319\n",
      "Processed chivay as number 320\n",
      "Processed san luis as number 321\n",
      "Processed sandy bay as number 322\n",
      "Processed stornoway as number 323\n",
      "Processed ganzhou as number 324\n",
      "Processed egvekinot as number 325\n",
      "Processed lensk as number 326\n",
      "Processed migori as number 327\n",
      "Processed jalu as number 328\n",
      "Processed vincennes as number 329\n",
      "Processed gamba as number 330\n",
      "samalaeulu not found\n",
      "Processed anchorage as number 331\n",
      "Processed faya as number 332\n",
      "Processed seoul as number 333\n",
      "burica not found\n",
      "Processed birao as number 334\n",
      "Processed quelimane as number 335\n",
      "Processed banda aceh as number 336\n",
      "Processed bhatkal as number 337\n",
      "Processed giyani as number 338\n",
      "Processed palasa as number 339\n",
      "Processed shalakusha as number 340\n",
      "Processed geraldton as number 341\n",
      "Processed antofagasta as number 342\n",
      "Processed saint-augustin as number 343\n",
      "Processed okato as number 344\n",
      "Processed te anau as number 345\n",
      "Processed tirat karmel as number 346\n",
      "Processed tandil as number 347\n",
      "Processed gat as number 348\n",
      "Processed mildura as number 349\n",
      "Processed kedrovyy as number 350\n",
      "Processed cabo san lucas as number 351\n",
      "Processed jaitaran as number 352\n",
      "Processed yermekeyevo as number 353\n",
      "Processed lorengau as number 354\n",
      "Processed urukh as number 355\n",
      "Processed half moon bay as number 356\n",
      "saleaula not found\n",
      "Processed bourail as number 357\n",
      "Processed kaeo as number 358\n",
      "Processed aripuana as number 359\n",
      "Processed balakhta as number 360\n",
      "macaboboni not found\n",
      "Processed shellbrook as number 361\n",
      "Processed doha as number 362\n",
      "Processed shahe as number 363\n",
      "Processed murray bridge as number 364\n",
      "Processed ampanihy as number 365\n",
      "Processed kayes as number 366\n",
      "Processed matara as number 367\n",
      "Processed dauphin as number 368\n",
      "Processed matadi as number 369\n",
      "Processed waterloo as number 370\n",
      "Processed filadelfia as number 371\n",
      "Processed baruun-urt as number 372\n",
      "Processed mendoza as number 373\n",
      "Processed bengkulu as number 374\n",
      "Processed pachino as number 375\n",
      "karkaralinsk not found\n",
      "Processed celestun as number 376\n",
      "dzhusaly not found\n",
      "Processed dicabisagan as number 377\n",
      "Processed oranjemund as number 378\n",
      "Processed olinda as number 379\n",
      "Processed havre as number 380\n",
      "Processed visnes as number 381\n",
      "Processed maceio as number 382\n",
      "Processed owando as number 383\n",
      "Processed olga as number 384\n",
      "Processed makat as number 385\n",
      "Processed aleksandrovskiy zavod as number 386\n",
      "Processed nizhnevartovsk as number 387\n",
      "Processed obidos as number 388\n",
      "Processed yamada as number 389\n",
      "Processed propria as number 390\n",
      "santa eulalia del rio not found\n",
      "Processed ambilobe as number 391\n",
      "Processed lantana as number 392\n",
      "Processed poum as number 393\n",
      "Processed malanje as number 394\n",
      "Processed cap malheureux as number 395\n",
      "Processed miri as number 396\n",
      "Processed provideniya as number 397\n",
      "Processed parczew as number 398\n",
      "Processed lithgow as number 399\n",
      "Processed san felipe as number 400\n",
      "Processed port blair as number 401\n",
      "Processed smithers as number 402\n",
      "Processed quatre cocos as number 403\n",
      "Processed jacareacanga as number 404\n",
      "Processed krasnoselkup as number 405\n",
      "Processed inuvik as number 406\n",
      "Processed nahrin as number 407\n",
      "Processed pangnirtung as number 408\n",
      "Processed svetlaya as number 409\n",
      "Processed norman wells as number 410\n",
      "Processed calabozo as number 411\n",
      "Processed kiama as number 412\n",
      "Processed bar harbor as number 413\n",
      "Processed lehigh acres as number 414\n",
      "Processed yumen as number 415\n",
      "Processed pevek as number 416\n",
      "Processed chateaubelair as number 417\n",
      "Processed cacapava do sul as number 418\n",
      "Processed puerto maldonado as number 419\n",
      "Processed beloha as number 420\n",
      "Processed jawhar as number 421\n",
      "uwayl not found\n",
      "Processed kansanshi as number 422\n",
      "tsihombe not found\n",
      "Processed beringovskiy as number 423\n",
      "Processed haines junction as number 424\n",
      "Processed roma as number 425\n",
      "Processed paso de carrasco as number 426\n",
      "Processed parainen as number 427\n",
      "Processed rostovka as number 428\n",
      "Processed umm lajj as number 429\n",
      "Processed mbandaka as number 430\n",
      "Processed boyabat as number 431\n",
      "Processed bambamarca as number 432\n",
      "Processed nouadhibou as number 433\n",
      "Processed anloga as number 434\n",
      "Processed saint-pierre as number 435\n",
      "Processed meadow lake as number 436\n",
      "Processed omsukchan as number 437\n",
      "Processed anuchino as number 438\n",
      "Processed broome as number 439\n",
      "Processed acajutla as number 440\n",
      "Processed aktash as number 441\n",
      "Processed ilulissat as number 442\n",
      "Processed uchkent as number 443\n",
      "Processed sao joao da barra as number 444\n",
      "Processed kamenka as number 445\n",
      "Processed mubende as number 446\n",
      "Processed zyryanka as number 447\n",
      "Processed olafsvik as number 448\n",
      "Processed lahij as number 449\n",
      "halalo not found\n",
      "Processed xichang as number 450\n",
      "Processed zhigalovo as number 451\n",
      "Processed samarai as number 452\n",
      "Processed sayyan as number 453\n",
      "Processed rapid valley as number 454\n",
      "Processed praxedis guerrero as number 455\n",
      "samusu not found\n",
      "Processed tokur as number 456\n",
      "Processed bilibino as number 457\n",
      "Processed lavrentiya as number 458\n",
      "Processed nicoya as number 459\n",
      "Processed dunedin as number 460\n",
      "Processed labuhan as number 461\n",
      "Processed sokoto as number 462\n",
      "Processed sola as number 463\n",
      "bargal not found\n",
      "Processed nuuk as number 464\n",
      "kamenskoye not found\n",
      "Processed kismayo as number 465\n",
      "Processed srednekolymsk as number 466\n",
      "Processed sungaipenuh as number 467\n",
      "Processed mount isa as number 468\n"
     ]
    },
    {
     "name": "stdout",
     "output_type": "stream",
     "text": [
      "Processed bayanday as number 469\n",
      "Processed comodoro rivadavia as number 470\n",
      "Processed medak as number 471\n",
      "Processed waipawa as number 472\n",
      "Processed chekhov as number 473\n",
      "Processed husavik as number 474\n",
      "Processed katsuura as number 475\n",
      "Processed kudahuvadhoo as number 476\n",
      "Processed deputatskiy as number 477\n",
      "Processed cayenne as number 478\n",
      "Processed port augusta as number 479\n",
      "Processed mufumbwe as number 480\n",
      "Processed lata as number 481\n",
      "Processed muli as number 482\n",
      "Processed aktau as number 483\n",
      "Processed brownsville as number 484\n",
      "Processed kigoma as number 485\n",
      "Processed henties bay as number 486\n",
      "Processed balfron as number 487\n",
      "Processed makakilo city as number 488\n",
      "Processed iskateley as number 489\n",
      "Processed adrian as number 490\n",
      "Processed cherskiy as number 491\n",
      "Processed berlevag as number 492\n",
      "Processed pangai as number 493\n",
      "Processed harrisburg as number 494\n",
      "Processed atyra as number 495\n",
      "Processed yining as number 496\n",
      "Processed bandar-e anzali as number 497\n",
      "Processed road town as number 498\n",
      "Processed goulburn as number 499\n",
      "Processed kununurra as number 500\n",
      "Processed oranjestad as number 501\n",
      "Processed kabelvag as number 502\n",
      "Processed inirida as number 503\n",
      "Processed cuenca as number 504\n",
      "Processed kargil as number 505\n",
      "Processed balikpapan as number 506\n",
      "Processed cockburn town as number 507\n",
      "Processed bandarbeyla as number 508\n",
      "Processed yuzhnyy as number 509\n",
      "Processed bowmore as number 510\n",
      "Processed isangel as number 511\n",
      "Processed peleduy as number 512\n",
      "Processed ndele as number 513\n",
      "Processed evensk as number 514\n",
      "Processed lumphat as number 515\n",
      "Processed port hedland as number 516\n",
      "Processed tiquisate as number 517\n",
      "Processed vila velha as number 518\n",
      "Processed messina as number 519\n",
      "Processed katangli as number 520\n",
      "Processed farrukhnagar as number 521\n",
      "Processed chake chake as number 522\n",
      "Processed oyem as number 523\n",
      "bur gabo not found\n",
      "Processed kharp as number 524\n",
      "jiddah not found\n",
      "Processed shingu as number 525\n",
      "Processed kieta as number 526\n",
      "Processed kragero as number 527\n",
      "Processed bo phloi as number 528\n",
      "Processed griffith as number 529\n",
      "alotau not found\n",
      "Processed virginia beach as number 530\n",
      "Processed sobolevo as number 531\n",
      "Processed vuktyl as number 532\n",
      "Processed mazatlan as number 533\n",
      "Processed waingapu as number 534\n",
      "Processed mezen as number 535\n",
      "Processed alenquer as number 536\n",
      "Processed pierre as number 537\n",
      "Processed kwinana as number 538\n",
      "Processed morondava as number 539\n",
      "Processed xihe as number 540\n",
      "Processed vardo as number 541\n",
      "Processed castrillon as number 542\n",
      "Processed san cristobal as number 543\n",
      "Processed merauke as number 544\n",
      "Processed pringsewu as number 545\n",
      "Processed basar as number 546\n",
      "Processed luwuk as number 547\n",
      "Processed inhambane as number 548\n",
      "Processed yar-sale as number 549\n",
      "Processed ponta delgada as number 550\n",
      "Processed oussouye as number 551\n",
      "Processed rey bouba as number 552\n",
      "Processed ishikawa as number 553\n",
      "Processed antalaha as number 554\n",
      "Processed dandong as number 555\n",
      "Processed sioux lookout as number 556\n",
      "Processed boldog as number 557\n",
      "Processed ukiah as number 558\n",
      "Processed santa marinella as number 559\n",
      "Processed san borja as number 560\n",
      "Processed necochea as number 561\n",
      "Processed mnogovershinnyy as number 562\n",
      "Processed solenzo as number 563\n",
      "Processed maumere as number 564\n",
      "Processed dondo as number 565\n",
      "Processed walvis bay as number 566\n",
      "Processed bull savanna as number 567\n",
      "yunjinghong not found\n",
      "Processed severobaykalsk as number 568\n",
      "Processed si satchanalai as number 569\n",
      "Processed kidal as number 570\n",
      "litoral del san juan not found\n",
      "kazalinsk not found\n"
     ]
    }
   ],
   "source": [
    "#create empty list to append to\n",
    "city_data = []\n",
    "i=1\n",
    "#for loop to go through all cities\n",
    "for city in cities:\n",
    "    #try in case city doesn't show up\n",
    "    try:\n",
    "        #create url\n",
    "        url = f\"http://api.openweathermap.org/data/2.5/weather?q={city}&appid={weather_api_key}&units=imperial\"\n",
    "        #get response\n",
    "        response = requests.get(url).json()\n",
    "        \n",
    "        #get info and store as variables\n",
    "        lat = response[\"coord\"][\"lat\"]\n",
    "        lng = response[\"coord\"][\"lon\"]\n",
    "        max_temp = response[\"main\"][\"temp_max\"]\n",
    "        hum = response[\"main\"][\"humidity\"]\n",
    "        cloud = response[\"clouds\"][\"all\"]\n",
    "        wind_sp = response[\"wind\"][\"speed\"]\n",
    "        country = response[\"sys\"][\"country\"]\n",
    "        date = response[\"dt\"]\n",
    "        \n",
    "        #store data in a dict to later create df\n",
    "        city_data.append({\n",
    "            \"City\" : city,\n",
    "            \"Lat\": lat,\n",
    "            \"Lng\": lng,\n",
    "            \"Max Temp\": max_temp,\n",
    "            \"Humidity\": hum,\n",
    "            \"Cloudiness\": cloud,\n",
    "            \"Wind Speed\": wind_sp,\n",
    "            \"Country\": country,\n",
    "            \"Date\": date\n",
    "        })\n",
    "        #print out what we've processed\n",
    "        print(f\"Processed {city} as number {i}\")\n",
    "        \n",
    "        #increase each by 1\n",
    "        i+=1\n",
    "    \n",
    "    #catch errors\n",
    "    except:\n",
    "        print(f\"{city} not found\")\n"
   ]
  },
  {
   "cell_type": "markdown",
   "metadata": {},
   "source": [
    "### Convert Raw Data to DataFrame\n",
    "* Export the city data into a .csv.\n",
    "* Display the DataFrame"
   ]
  },
  {
   "cell_type": "code",
   "execution_count": 6,
   "metadata": {},
   "outputs": [],
   "source": [
    "#create dataframe and display it\n",
    "city_data_df = pd.DataFrame(city_data)\n",
    "city_data_df\n",
    "\n",
    "#export dataframe to csv\n",
    "city_data_df.to_csv(output_data_file)"
   ]
  },
  {
   "cell_type": "code",
   "execution_count": 7,
   "metadata": {},
   "outputs": [
    {
     "data": {
      "text/html": [
       "<div>\n",
       "<style scoped>\n",
       "    .dataframe tbody tr th:only-of-type {\n",
       "        vertical-align: middle;\n",
       "    }\n",
       "\n",
       "    .dataframe tbody tr th {\n",
       "        vertical-align: top;\n",
       "    }\n",
       "\n",
       "    .dataframe thead th {\n",
       "        text-align: right;\n",
       "    }\n",
       "</style>\n",
       "<table border=\"1\" class=\"dataframe\">\n",
       "  <thead>\n",
       "    <tr style=\"text-align: right;\">\n",
       "      <th></th>\n",
       "      <th>Lat</th>\n",
       "      <th>Lng</th>\n",
       "      <th>Max Temp</th>\n",
       "      <th>Humidity</th>\n",
       "      <th>Cloudiness</th>\n",
       "      <th>Wind Speed</th>\n",
       "    </tr>\n",
       "  </thead>\n",
       "  <tbody>\n",
       "    <tr>\n",
       "      <th>count</th>\n",
       "      <td>570.000000</td>\n",
       "      <td>570.000000</td>\n",
       "      <td>570.00000</td>\n",
       "      <td>570.000000</td>\n",
       "      <td>570.000000</td>\n",
       "      <td>570.000000</td>\n",
       "    </tr>\n",
       "    <tr>\n",
       "      <th>mean</th>\n",
       "      <td>18.738048</td>\n",
       "      <td>16.677934</td>\n",
       "      <td>56.95107</td>\n",
       "      <td>71.670175</td>\n",
       "      <td>52.182456</td>\n",
       "      <td>8.667105</td>\n",
       "    </tr>\n",
       "    <tr>\n",
       "      <th>std</th>\n",
       "      <td>34.062513</td>\n",
       "      <td>91.556119</td>\n",
       "      <td>25.72967</td>\n",
       "      <td>23.342035</td>\n",
       "      <td>38.856616</td>\n",
       "      <td>6.215417</td>\n",
       "    </tr>\n",
       "    <tr>\n",
       "      <th>min</th>\n",
       "      <td>-54.800000</td>\n",
       "      <td>-179.166700</td>\n",
       "      <td>-27.51000</td>\n",
       "      <td>8.000000</td>\n",
       "      <td>0.000000</td>\n",
       "      <td>0.560000</td>\n",
       "    </tr>\n",
       "    <tr>\n",
       "      <th>25%</th>\n",
       "      <td>-9.627575</td>\n",
       "      <td>-63.366650</td>\n",
       "      <td>41.00000</td>\n",
       "      <td>58.000000</td>\n",
       "      <td>13.250000</td>\n",
       "      <td>4.235000</td>\n",
       "    </tr>\n",
       "    <tr>\n",
       "      <th>50%</th>\n",
       "      <td>20.912850</td>\n",
       "      <td>21.097750</td>\n",
       "      <td>64.40000</td>\n",
       "      <td>78.000000</td>\n",
       "      <td>49.000000</td>\n",
       "      <td>6.910000</td>\n",
       "    </tr>\n",
       "    <tr>\n",
       "      <th>75%</th>\n",
       "      <td>47.635900</td>\n",
       "      <td>96.932125</td>\n",
       "      <td>77.29000</td>\n",
       "      <td>90.000000</td>\n",
       "      <td>91.000000</td>\n",
       "      <td>12.067500</td>\n",
       "    </tr>\n",
       "    <tr>\n",
       "      <th>max</th>\n",
       "      <td>78.218600</td>\n",
       "      <td>179.316700</td>\n",
       "      <td>102.20000</td>\n",
       "      <td>100.000000</td>\n",
       "      <td>100.000000</td>\n",
       "      <td>39.120000</td>\n",
       "    </tr>\n",
       "  </tbody>\n",
       "</table>\n",
       "</div>"
      ],
      "text/plain": [
       "              Lat         Lng   Max Temp    Humidity  Cloudiness  Wind Speed\n",
       "count  570.000000  570.000000  570.00000  570.000000  570.000000  570.000000\n",
       "mean    18.738048   16.677934   56.95107   71.670175   52.182456    8.667105\n",
       "std     34.062513   91.556119   25.72967   23.342035   38.856616    6.215417\n",
       "min    -54.800000 -179.166700  -27.51000    8.000000    0.000000    0.560000\n",
       "25%     -9.627575  -63.366650   41.00000   58.000000   13.250000    4.235000\n",
       "50%     20.912850   21.097750   64.40000   78.000000   49.000000    6.910000\n",
       "75%     47.635900   96.932125   77.29000   90.000000   91.000000   12.067500\n",
       "max     78.218600  179.316700  102.20000  100.000000  100.000000   39.120000"
      ]
     },
     "execution_count": 7,
     "metadata": {},
     "output_type": "execute_result"
    }
   ],
   "source": [
    "#get necessary columns\n",
    "stats_df = city_data_df[[\"Lat\", \"Lng\", \"Max Temp\", \"Humidity\", 'Cloudiness', 'Wind Speed']]\n",
    "\n",
    "#perform operations on all above columns\n",
    "count = stats_df.count()\n",
    "mean = stats_df.mean()\n",
    "std = stats_df.std()\n",
    "minimum = stats_df.min()\n",
    "\n",
    "#used https://pandas.pydata.org/docs/reference/api/pandas.DataFrame.quantile.html\n",
    "lowerq = stats_df.quantile(q = 0.25)\n",
    "middleq = stats_df.quantile(q = 0.5)\n",
    "upperq = stats_df.quantile(q = 0.75)\n",
    "maximum = stats_df.max()\n",
    "\n",
    "#create dataframe and store info\n",
    "summary_df = pd.DataFrame({\n",
    "    \"count\": count,\n",
    "    \"mean\": mean,\n",
    "    \"std\": std,\n",
    "    \"min\": minimum,\n",
    "    \"25%\": lowerq,\n",
    "    \"50%\": middleq,\n",
    "    \"75%\": upperq,\n",
    "    \"max\": maximum\n",
    "})\n",
    "#used https://stackoverflow.com/questions/17076705/invert-index-and-columns-in-a-pandas-dataframe\n",
    "#transpose our column and row names\n",
    "summary_df = summary_df.T\n",
    "\n",
    "#display it\n",
    "summary_df"
   ]
  },
  {
   "cell_type": "markdown",
   "metadata": {},
   "source": [
    "## Inspect the data and remove the cities where the humidity > 100%.\n",
    "----\n",
    "Skip this step if there are no cities that have humidity > 100%. "
   ]
  },
  {
   "cell_type": "code",
   "execution_count": 8,
   "metadata": {},
   "outputs": [
    {
     "data": {
      "text/plain": [
       "Lat           570\n",
       "Lng           570\n",
       "Max Temp      570\n",
       "Humidity      570\n",
       "Cloudiness    570\n",
       "Wind Speed    570\n",
       "dtype: int64"
      ]
     },
     "execution_count": 8,
     "metadata": {},
     "output_type": "execute_result"
    }
   ],
   "source": [
    "clean_data = stats_df[stats_df[\"Humidity\"] <= 100]\n",
    "clean_data.count()\n",
    "#same count = no cities over 100"
   ]
  },
  {
   "cell_type": "markdown",
   "metadata": {},
   "source": [
    "## Plotting the Data\n",
    "* Use proper labeling of the plots using plot titles (including date of analysis) and axes labels.\n",
    "* Save the plotted figures as .pngs."
   ]
  },
  {
   "cell_type": "markdown",
   "metadata": {},
   "source": [
    "## Latitude vs. Temperature Plot"
   ]
  },
  {
   "cell_type": "code",
   "execution_count": 18,
   "metadata": {
    "scrolled": true
   },
   "outputs": [
    {
     "data": {
      "image/png": "[encoded data removed]",
      "text/plain": [
       "<Figure size 432x288 with 1 Axes>"
      ]
     },
     "metadata": {
      "needs_background": "light"
     },
     "output_type": "display_data"
    },
    {
     "name": "stdout",
     "output_type": "stream",
     "text": [
      "Plot to show the relationship between latitude and max temperature of different cities.\n"
     ]
    }
   ],
   "source": [
    "#get info from dataframe\n",
    "max_temp = city_data_df[\"Max Temp\"]\n",
    "lat = city_data_df[\"Lat\"]\n",
    "\n",
    "#create plot\n",
    "plt.scatter(lat, max_temp)\n",
    "\n",
    "#create labels and title\n",
    "plt.title('City Latitude vs Max Temperature (03/25/2021)')\n",
    "plt.xlabel('Latitude')\n",
    "plt.ylabel('Max Temperature (F)')\n",
    "\n",
    "#export as png\n",
    "plt.savefig('output_data/max_temp.png')\n",
    "\n",
    "#show plot and describe what's happening\n",
    "plt.show()\n",
    "print(\"Plot to show the relationship between latitude and max temperature of different cities.\")"
   ]
  },
  {
   "cell_type": "markdown",
   "metadata": {},
   "source": [
    "## Latitude vs. Humidity Plot"
   ]
  },
  {
   "cell_type": "code",
   "execution_count": 19,
   "metadata": {},
   "outputs": [
    {
     "data": {
      "image/png": "[encoded data removed]",
      "text/plain": [
       "<Figure size 432x288 with 1 Axes>"
      ]
     },
     "metadata": {
      "needs_background": "light"
     },
     "output_type": "display_data"
    },
    {
     "name": "stdout",
     "output_type": "stream",
     "text": [
      "Plot to show the relationship between latitude and humidity of different cities.\n"
     ]
    }
   ],
   "source": [
    "#get info from dataframe\n",
    "hum = city_data_df[\"Humidity\"]\n",
    "\n",
    "#create plot\n",
    "plt.scatter(lat, hum)\n",
    "\n",
    "#set labels and title\n",
    "plt.title('City Latitude vs Humidity (03/25/2021)')\n",
    "plt.xlabel('Latitude')\n",
    "plt.ylabel('Humidity')\n",
    "\n",
    "#export as png\n",
    "plt.savefig('output_data/humidity.png')\n",
    "\n",
    "#show and describe plot\n",
    "plt.show()\n",
    "print(\"Plot to show the relationship between latitude and humidity of different cities.\")"
   ]
  },
  {
   "cell_type": "markdown",
   "metadata": {},
   "source": [
    "## Latitude vs. Cloudiness Plot"
   ]
  },
  {
   "cell_type": "code",
   "execution_count": 20,
   "metadata": {},
   "outputs": [
    {
     "data": {
      "image/png": "[encoded data removed]",
      "text/plain": [
       "<Figure size 432x288 with 1 Axes>"
      ]
     },
     "metadata": {
      "needs_background": "light"
     },
     "output_type": "display_data"
    },
    {
     "name": "stdout",
     "output_type": "stream",
     "text": [
      "Plot to show the relationship between latitude and cloudiness of different cities.\n"
     ]
    }
   ],
   "source": [
    "#get info from dataframe\n",
    "cloud = city_data_df[\"Cloudiness\"]\n",
    "\n",
    "#create plot\n",
    "plt.scatter(lat, cloud)\n",
    "\n",
    "#set labels and title\n",
    "plt.title('City Latitude vs Cloudiness (03/25/2021)')\n",
    "plt.xlabel('Latitude')\n",
    "plt.ylabel('Cloudiness')\n",
    "\n",
    "#export as png\n",
    "plt.savefig('output_data/cloudiness.png')\n",
    "\n",
    "#show and describe plot\n",
    "plt.show()\n",
    "print(\"Plot to show the relationship between latitude and cloudiness of different cities.\")"
   ]
  },
  {
   "cell_type": "markdown",
   "metadata": {},
   "source": [
    "## Latitude vs. Wind Speed Plot"
   ]
  },
  {
   "cell_type": "code",
   "execution_count": 21,
   "metadata": {},
   "outputs": [
    {
     "data": {
      "image/png": "[encoded data removed]",
      "text/plain": [
       "<Figure size 432x288 with 1 Axes>"
      ]
     },
     "metadata": {
      "needs_background": "light"
     },
     "output_type": "display_data"
    },
    {
     "name": "stdout",
     "output_type": "stream",
     "text": [
      "Plot to show the relationship between latitude and wind speed of different cities.\n"
     ]
    }
   ],
   "source": [
    "#get info from df\n",
    "wind_sp = city_data_df[\"Wind Speed\"]\n",
    "\n",
    "#create plot\n",
    "plt.scatter(lat, wind_sp)\n",
    "\n",
    "#set title and labels\n",
    "plt.title('City Latitude vs Wind Speed (03/25/2021)')\n",
    "plt.xlabel('Latitude')\n",
    "plt.ylabel('Wind Speed')\n",
    "\n",
    "#export as png\n",
    "plt.savefig('output_data/wind_speed.png')\n",
    "\n",
    "#show and describe plot\n",
    "plt.show()\n",
    "print(\"Plot to show the relationship between latitude and wind speed of different cities.\")"
   ]
  },
  {
   "cell_type": "markdown",
   "metadata": {},
   "source": [
    "## Linear Regression"
   ]
  },
  {
   "cell_type": "code",
   "execution_count": null,
   "metadata": {},
   "outputs": [],
   "source": []
  },
  {
   "cell_type": "markdown",
   "metadata": {},
   "source": [
    "####  Northern Hemisphere - Max Temp vs. Latitude Linear Regression"
   ]
  },
  {
   "cell_type": "code",
   "execution_count": 11,
   "metadata": {},
   "outputs": [
    {
     "name": "stdout",
     "output_type": "stream",
     "text": [
      "The correlation between the northern hemisphere's latitude and max temperature is -0.88\n"
     ]
    },
    {
     "data": {
      "image/png": "[encoded data removed]",
      "text/plain": [
       "<Figure size 432x288 with 1 Axes>"
      ]
     },
     "metadata": {
      "needs_background": "light"
     },
     "output_type": "display_data"
    },
    {
     "name": "stdout",
     "output_type": "stream",
     "text": [
      "Scatter plot shows strong correlation between max temp increasing the closer we get to the equator. This was expected.\n"
     ]
    }
   ],
   "source": [
    "#set up dataframe of northern hemisphere\n",
    "northern_lat = city_data_df[city_data_df[\"Lat\"] >= 0]\n",
    "\n",
    "#create variables\n",
    "nlat = northern_lat[\"Lat\"]\n",
    "max_temp = northern_lat[\"Max Temp\"]\n",
    "\n",
    "#create plot and set title and labels\n",
    "plt.scatter(nlat, max_temp)\n",
    "plt.title('City Latitude vs Max Temperature (03/25/2021)')\n",
    "plt.xlabel('Latitude')\n",
    "plt.ylabel('Max Temperature (F)')\n",
    "\n",
    "# Calculate the correlation coefficient and linear regression model \n",
    "# for northern hemisphere and max temp\n",
    "correlation = st.pearsonr(nlat, max_temp)\n",
    "print(f\"The correlation between the northern hemisphere's latitude and max temperature is {round(correlation[0],2)}\")\n",
    "\n",
    "#get linear regression equation\n",
    "(slope, intercept, rvalue, pvalue, stderr) = st.linregress(nlat, max_temp)\n",
    "regress_values = nlat * slope + intercept\n",
    "line_eq = \"y = \" + str(round(slope,2)) + \"x + \" + str(round(intercept,2))\n",
    "\n",
    "#add model to plot\n",
    "plt.plot(nlat, regress_values, \"r-\")\n",
    "plt.annotate(line_eq, (15, 0), fontsize=15, color=\"red\")\n",
    "plt.show()\n",
    "\n",
    "#analysis\n",
    "print(\"Scatter plot shows strong correlation between max temp increasing the closer we get to the equator. This was expected.\")"
   ]
  },
  {
   "cell_type": "markdown",
   "metadata": {},
   "source": [
    "####  Southern Hemisphere - Max Temp vs. Latitude Linear Regression"
   ]
  },
  {
   "cell_type": "code",
   "execution_count": 9,
   "metadata": {},
   "outputs": [
    {
     "name": "stdout",
     "output_type": "stream",
     "text": [
      "The correlation between the southern hemisphere's latitude and max temperature is 0.59\n"
     ]
    },
    {
     "data": {
      "image/png": "[encoded data removed]",
      "text/plain": [
       "<Figure size 432x288 with 1 Axes>"
      ]
     },
     "metadata": {
      "needs_background": "light"
     },
     "output_type": "display_data"
    },
    {
     "name": "stdout",
     "output_type": "stream",
     "text": [
      "Scatter plot shows strong correlation between max temp increasing the closer we get to the equator. Correlation is not as strong as in northern, this may be because we have fewer data points.\n"
     ]
    }
   ],
   "source": [
    "#create dataframe of southern hemisphere\n",
    "southern_lat = city_data_df[city_data_df[\"Lat\"] < 0]\n",
    "\n",
    "#create variables\n",
    "slat = southern_lat[\"Lat\"]\n",
    "max_temp = southern_lat[\"Max Temp\"]\n",
    "\n",
    "#create plot and set title and labels\n",
    "plt.scatter(slat, max_temp)\n",
    "plt.title('City Latitude vs Max Temperature (03/25/2021)')\n",
    "plt.xlabel('Latitude')\n",
    "plt.ylabel('Max Temperature (F)')\n",
    "\n",
    "# Calculate the correlation coefficient and linear regression model \n",
    "# for southern hemisphere and max temp\n",
    "correlation = st.pearsonr(slat, max_temp)\n",
    "print(f\"The correlation between the southern hemisphere's latitude and max temperature is {round(correlation[0],2)}\")\n",
    "\n",
    "#get linear regression equation\n",
    "(slope, intercept, rvalue, pvalue, stderr) = st.linregress(slat, max_temp)\n",
    "regress_values = slat * slope + intercept\n",
    "line_eq = \"y = \" + str(round(slope,2)) + \"x + \" + str(round(intercept,2))\n",
    "\n",
    "#add model to plot\n",
    "plt.plot(slat, regress_values, \"r-\")\n",
    "plt.annotate(line_eq, (15, 0), fontsize=15, color=\"red\")\n",
    "plt.show()\n",
    "\n",
    "#analysis\n",
    "print(\"Scatter plot shows strong correlation between max temp increasing the closer we get to the equator. Correlation is not as strong as in northern, this may be because we have fewer data points.\")"
   ]
  },
  {
   "cell_type": "markdown",
   "metadata": {},
   "source": [
    "####  Northern Hemisphere - Humidity (%) vs. Latitude Linear Regression"
   ]
  },
  {
   "cell_type": "code",
   "execution_count": 12,
   "metadata": {},
   "outputs": [
    {
     "name": "stdout",
     "output_type": "stream",
     "text": [
      "The correlation between the northern hemisphere's latitude and humidity is 0.3\n"
     ]
    },
    {
     "data": {
      "image/png": "[encoded data removed]",
      "text/plain": [
       "<Figure size 432x288 with 1 Axes>"
      ]
     },
     "metadata": {
      "needs_background": "light"
     },
     "output_type": "display_data"
    },
    {
     "name": "stdout",
     "output_type": "stream",
     "text": [
      "A slight correlation between latitude and humidity. It would be interesting to see if we could find longitudes of cities close to water to see if there's a stronger correlation there.\n"
     ]
    }
   ],
   "source": [
    "#create variables\n",
    "hum = northern_lat[\"Humidity\"]\n",
    "\n",
    "#create plot and set title and labels\n",
    "plt.scatter(nlat, hum)\n",
    "plt.title('City Latitude vs Humidity (03/25/2021)')\n",
    "plt.xlabel('Latitude')\n",
    "plt.ylabel('Humidity (%)')\n",
    "\n",
    "# Calculate the correlation coefficient and linear regression model \n",
    "# for northern hemisphere and humidity\n",
    "correlation = st.pearsonr(nlat, hum)\n",
    "print(f\"The correlation between the northern hemisphere's latitude and humidity is {round(correlation[0],2)}\")\n",
    "\n",
    "#get linear regression equation\n",
    "(slope, intercept, rvalue, pvalue, stderr) = st.linregress(nlat, hum)\n",
    "regress_values = nlat * slope + intercept\n",
    "line_eq = \"y = \" + str(round(slope,2)) + \"x + \" + str(round(intercept,2))\n",
    "\n",
    "#add model to plot\n",
    "plt.plot(nlat, regress_values, \"r-\")\n",
    "plt.annotate(line_eq, (15, 0), fontsize=15, color=\"red\")\n",
    "plt.show()\n",
    "\n",
    "#analysis\n",
    "print(\"A slight correlation between latitude and humidity. It would be interesting to see if we could find longitudes of cities close to water to see if there's a stronger correlation there.\")"
   ]
  },
  {
   "cell_type": "markdown",
   "metadata": {},
   "source": [
    "####  Southern Hemisphere - Humidity (%) vs. Latitude Linear Regression"
   ]
  },
  {
   "cell_type": "code",
   "execution_count": 13,
   "metadata": {},
   "outputs": [
    {
     "name": "stdout",
     "output_type": "stream",
     "text": [
      "The correlation between the southern hemisphere's latitude and humidity is 0.25\n"
     ]
    },
    {
     "data": {
      "image/png": "[encoded data removed]",
      "text/plain": [
       "<Figure size 432x288 with 1 Axes>"
      ]
     },
     "metadata": {
      "needs_background": "light"
     },
     "output_type": "display_data"
    },
    {
     "name": "stdout",
     "output_type": "stream",
     "text": [
      "Not as strong of a correlation as in the northern hemisphere. This could be because there are more landlocked countries in the southern hemisphere. There could also just not be much correlation.\n"
     ]
    }
   ],
   "source": [
    "#create variables\n",
    "hum = southern_lat[\"Humidity\"]\n",
    "\n",
    "#create plot and set title and labels\n",
    "plt.scatter(slat, hum)\n",
    "plt.title('City Latitude vs Humidity (03/25/2021)')\n",
    "plt.xlabel('Latitude')\n",
    "plt.ylabel('Humidity (%)')\n",
    "\n",
    "# Calculate the correlation coefficient and linear regression model \n",
    "# for southern hemisphere and humidity\n",
    "correlation = st.pearsonr(slat, hum)\n",
    "print(f\"The correlation between the southern hemisphere's latitude and humidity is {round(correlation[0],2)}\")\n",
    "\n",
    "#get linear regression equation\n",
    "(slope, intercept, rvalue, pvalue, stderr) = st.linregress(slat, hum)\n",
    "regress_values = slat * slope + intercept\n",
    "line_eq = \"y = \" + str(round(slope,2)) + \"x + \" + str(round(intercept,2))\n",
    "\n",
    "#add model to plot\n",
    "plt.plot(slat, regress_values, \"r-\")\n",
    "plt.annotate(line_eq, (15, 0), fontsize=15, color=\"red\")\n",
    "plt.show()\n",
    "\n",
    "#analysis\n",
    "print(\"Not as strong of a correlation as in the northern hemisphere. This could be because there are more landlocked countries in the southern hemisphere. There could also just not be much correlation.\")"
   ]
  },
  {
   "cell_type": "markdown",
   "metadata": {},
   "source": [
    "####  Northern Hemisphere - Cloudiness (%) vs. Latitude Linear Regression"
   ]
  },
  {
   "cell_type": "code",
   "execution_count": 14,
   "metadata": {},
   "outputs": [
    {
     "name": "stdout",
     "output_type": "stream",
     "text": [
      "The correlation between the northern hemisphere's latitude and cloudiness is 0.2\n"
     ]
    },
    {
     "data": {
      "image/png": "[encoded data removed]",
      "text/plain": [
       "<Figure size 432x288 with 1 Axes>"
      ]
     },
     "metadata": {
      "needs_background": "light"
     },
     "output_type": "display_data"
    },
    {
     "name": "stdout",
     "output_type": "stream",
     "text": [
      "We see almost no correlation between cloudiness and latitude\n"
     ]
    }
   ],
   "source": [
    "#create variables\n",
    "cloud = northern_lat[\"Cloudiness\"]\n",
    "\n",
    "#create plot and set title and labels\n",
    "plt.scatter(nlat, cloud)\n",
    "plt.title('City Latitude vs Cloudiness (03/25/2021)')\n",
    "plt.xlabel('Latitude')\n",
    "plt.ylabel('Cloudiness (%)')\n",
    "\n",
    "# Calculate the correlation coefficient and linear regression model \n",
    "# for northern hemisphere and cloudiness\n",
    "correlation = st.pearsonr(nlat, cloud)\n",
    "print(f\"The correlation between the northern hemisphere's latitude and cloudiness is {round(correlation[0],2)}\")\n",
    "\n",
    "#get linear regression equation\n",
    "(slope, intercept, rvalue, pvalue, stderr) = st.linregress(nlat, cloud)\n",
    "regress_values = nlat * slope + intercept\n",
    "line_eq = \"y = \" + str(round(slope,2)) + \"x + \" + str(round(intercept,2))\n",
    "\n",
    "#add model to plot\n",
    "plt.plot(nlat, regress_values, \"r-\")\n",
    "plt.annotate(line_eq, (15, 0), fontsize=15, color=\"red\")\n",
    "plt.show()\n",
    "\n",
    "#analysis\n",
    "print(\"We see almost no correlation between cloudiness and latitude\")"
   ]
  },
  {
   "cell_type": "markdown",
   "metadata": {},
   "source": [
    "####  Southern Hemisphere - Cloudiness (%) vs. Latitude Linear Regression"
   ]
  },
  {
   "cell_type": "code",
   "execution_count": 15,
   "metadata": {},
   "outputs": [
    {
     "name": "stdout",
     "output_type": "stream",
     "text": [
      "The correlation between the southern hemisphere's latitude and cloudiness is 0.22\n"
     ]
    },
    {
     "data": {
      "image/png": "[encoded data removed]",
      "text/plain": [
       "<Figure size 432x288 with 1 Axes>"
      ]
     },
     "metadata": {
      "needs_background": "light"
     },
     "output_type": "display_data"
    },
    {
     "name": "stdout",
     "output_type": "stream",
     "text": [
      "We see almost no correlation between cloudiness and latitude\n"
     ]
    }
   ],
   "source": [
    "#create variables\n",
    "cloud = southern_lat[\"Cloudiness\"]\n",
    "\n",
    "#create plot and set title and labels\n",
    "plt.scatter(slat, cloud)\n",
    "plt.title('City Latitude vs Cloudiness (03/25/2021)')\n",
    "plt.xlabel('Latitude')\n",
    "plt.ylabel('Cloudiness (%)')\n",
    "\n",
    "# Calculate the correlation coefficient and linear regression model \n",
    "# for southern hemisphere and cloudiness\n",
    "correlation = st.pearsonr(slat, cloud)\n",
    "print(f\"The correlation between the southern hemisphere's latitude and cloudiness is {round(correlation[0],2)}\")\n",
    "\n",
    "#get linear regression equation\n",
    "(slope, intercept, rvalue, pvalue, stderr) = st.linregress(slat, cloud)\n",
    "regress_values = slat * slope + intercept\n",
    "line_eq = \"y = \" + str(round(slope,2)) + \"x + \" + str(round(intercept,2))\n",
    "\n",
    "#add model to plot\n",
    "plt.plot(slat, regress_values, \"r-\")\n",
    "plt.annotate(line_eq, (15, 0), fontsize=15, color=\"red\")\n",
    "plt.show()\n",
    "\n",
    "#analysis\n",
    "print(\"We see almost no correlation between cloudiness and latitude\")"
   ]
  },
  {
   "cell_type": "markdown",
   "metadata": {},
   "source": [
    "####  Northern Hemisphere - Wind Speed (mph) vs. Latitude Linear Regression"
   ]
  },
  {
   "cell_type": "code",
   "execution_count": 16,
   "metadata": {},
   "outputs": [
    {
     "name": "stdout",
     "output_type": "stream",
     "text": [
      "The correlation between the northern hemisphere's latitude and wind speed is 0.12\n"
     ]
    },
    {
     "data": {
      "image/png": "[encoded data removed]",
      "text/plain": [
       "<Figure size 432x288 with 1 Axes>"
      ]
     },
     "metadata": {
      "needs_background": "light"
     },
     "output_type": "display_data"
    },
    {
     "name": "stdout",
     "output_type": "stream",
     "text": [
      "We see almost no correlation between wind speed and latitude\n"
     ]
    }
   ],
   "source": [
    "#create variables\n",
    "wind_sp = northern_lat[\"Wind Speed\"]\n",
    "\n",
    "#create plot and set title and labels\n",
    "plt.scatter(nlat,wind_sp)\n",
    "plt.title('City Latitude vs Wind Speed (03/25/2021)')\n",
    "plt.xlabel('Latitude')\n",
    "plt.ylabel('Wind Speed (mph)')\n",
    "\n",
    "# Calculate the correlation coefficient and linear regression model \n",
    "# for northern hemisphere and wind speed\n",
    "correlation = st.pearsonr(nlat, wind_sp)\n",
    "print(f\"The correlation between the northern hemisphere's latitude and wind speed is {round(correlation[0],2)}\")\n",
    "\n",
    "#get linear regression equation\n",
    "(slope, intercept, rvalue, pvalue, stderr) = st.linregress(nlat, wind_sp)\n",
    "regress_values = nlat * slope + intercept\n",
    "line_eq = \"y = \" + str(round(slope,2)) + \"x + \" + str(round(intercept,2))\n",
    "\n",
    "#add model to plot\n",
    "plt.plot(nlat, regress_values, \"r-\")\n",
    "plt.annotate(line_eq, (15, 0), fontsize=15, color=\"red\")\n",
    "plt.show()\n",
    "\n",
    "#analysis\n",
    "print(\"We see almost no correlation between wind speed and latitude\")"
   ]
  },
  {
   "cell_type": "markdown",
   "metadata": {},
   "source": [
    "####  Southern Hemisphere - Wind Speed (mph) vs. Latitude Linear Regression"
   ]
  },
  {
   "cell_type": "code",
   "execution_count": 17,
   "metadata": {},
   "outputs": [
    {
     "name": "stdout",
     "output_type": "stream",
     "text": [
      "The correlation between the southern hemisphere's latitude and wind speed is -0.02\n"
     ]
    },
    {
     "data": {
      "image/png": "[encoded data removed]",
      "text/plain": [
       "<Figure size 432x288 with 1 Axes>"
      ]
     },
     "metadata": {
      "needs_background": "light"
     },
     "output_type": "display_data"
    },
    {
     "name": "stdout",
     "output_type": "stream",
     "text": [
      "We see almost no correlation between wind speed and latitude\n"
     ]
    }
   ],
   "source": [
    "#create variables\n",
    "wind_sp = southern_lat[\"Wind Speed\"]\n",
    "\n",
    "#create plot and set title and labels\n",
    "plt.scatter(slat, wind_sp)\n",
    "plt.title('City Latitude vs Wind Speed (03/25/2021)')\n",
    "plt.xlabel('Latitude')\n",
    "plt.ylabel('Wind Speed (mph)')\n",
    "\n",
    "# Calculate the correlation coefficient and linear regression model \n",
    "# for southern hemisphere and wind speed\n",
    "correlation = st.pearsonr(slat, wind_sp)\n",
    "print(f\"The correlation between the southern hemisphere's latitude and wind speed is {round(correlation[0],2)}\")\n",
    "\n",
    "#get linear regression equation\n",
    "(slope, intercept, rvalue, pvalue, stderr) = st.linregress(slat, wind_sp)\n",
    "regress_values = slat * slope + intercept\n",
    "line_eq = \"y = \" + str(round(slope,2)) + \"x + \" + str(round(intercept,2))\n",
    "\n",
    "#add model to plot\n",
    "plt.plot(slat, regress_values, \"r-\")\n",
    "plt.annotate(line_eq, (15, 0), fontsize=15, color=\"red\")\n",
    "plt.show()\n",
    "\n",
    "#analysis\n",
    "print(\"We see almost no correlation between wind speed and latitude\")"
   ]
  },
  {
   "cell_type": "code",
   "execution_count": null,
   "metadata": {},
   "outputs": [],
   "source": []
  }
 ],
 "metadata": {
  "anaconda-cloud": {},
  "kernel_info": {
   "name": "python3"
  },
  "kernelspec": {
   "display_name": "Python 3",
   "language": "python",
   "name": "python3"
  },
  "language_info": {
   "codemirror_mode": {
    "name": "ipython",
    "version": 3
   },
   "file_extension": ".py",
   "mimetype": "text/x-python",
   "name": "python",
   "nbconvert_exporter": "python",
   "pygments_lexer": "ipython3",
   "version": "3.8.5"
  },
  "latex_envs": {
   "LaTeX_envs_menu_present": true,
   "autoclose": false,
   "autocomplete": true,
   "bibliofile": "biblio.bib",
   "cite_by": "apalike",
   "current_citInitial": 1,
   "eqLabelWithNumbers": true,
   "eqNumInitial": 1,
   "hotkeys": {
    "equation": "Ctrl-E",
    "itemize": "Ctrl-I"
   },
   "labels_anchors": false,
   "latex_user_defs": false,
   "report_style_numbering": false,
   "user_envs_cfg": false
  },
  "nteract": {
   "version": "0.12.3"
  }
 },
 "nbformat": 4,
 "nbformat_minor": 4
}
