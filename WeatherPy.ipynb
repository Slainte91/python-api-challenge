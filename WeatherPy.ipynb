{
 "cells": [
  {
   "cell_type": "markdown",
   "metadata": {},
   "source": [
    "# WeatherPy\n",
    "----\n",
    "\n",
    "#### Note\n",
    "* Instructions have been included for each segment. You do not have to follow them exactly, but they are included to help you think through the steps."
   ]
  },
  {
   "cell_type": "code",
   "execution_count": 61,
   "metadata": {
    "scrolled": true
   },
   "outputs": [],
   "source": [
    "# Dependencies and Setup\n",
    "import matplotlib.pyplot as plt\n",
    "import pandas as pd\n",
    "import numpy as np\n",
    "import requests\n",
    "import time\n",
    "import scipy.stats as st\n",
    "\n",
    "# Import API key\n",
    "from api_keys import weather_api_key\n",
    "\n",
    "# Incorporated citipy to determine city based on latitude and longitude\n",
    "from citipy import citipy\n",
    "\n",
    "# Output File (CSV)\n",
    "output_data_file = \"output_data/cities.csv\"\n",
    "\n",
    "# Range of latitudes and longitudes\n",
    "lat_range = (-90, 90)\n",
    "lng_range = (-180, 180)"
   ]
  },
  {
   "cell_type": "markdown",
   "metadata": {},
   "source": [
    "## Generate Cities List"
   ]
  },
  {
   "cell_type": "code",
   "execution_count": 62,
   "metadata": {},
   "outputs": [
    {
     "data": {
      "text/plain": [
       "598"
      ]
     },
     "execution_count": 62,
     "metadata": {},
     "output_type": "execute_result"
    }
   ],
   "source": [
    "# List for holding lat_lngs and cities\n",
    "lat_lngs = []\n",
    "cities = []\n",
    "\n",
    "# Create a set of random lat and lng combinations\n",
    "lats = np.random.uniform(lat_range[0], lat_range[1], size=1500)\n",
    "lngs = np.random.uniform(lng_range[0], lng_range[1], size=1500)\n",
    "lat_lngs = zip(lats, lngs)\n",
    "\n",
    "# Identify nearest city for each lat, lng combination\n",
    "for lat_lng in lat_lngs:\n",
    "    city = citipy.nearest_city(lat_lng[0], lat_lng[1]).city_name\n",
    "    \n",
    "    # If the city is unique, then add it to a our cities list\n",
    "    if city not in cities:\n",
    "        cities.append(city)\n",
    "\n",
    "# Print the city count to confirm sufficient count\n",
    "len(cities)\n"
   ]
  },
  {
   "cell_type": "markdown",
   "metadata": {},
   "source": [
    "### Perform API Calls\n",
    "* Perform a weather check on each city using a series of successive API calls.\n",
    "* Include a print log of each city as it's being processed (with the city number and city name).\n"
   ]
  },
  {
   "cell_type": "code",
   "execution_count": 63,
   "metadata": {},
   "outputs": [],
   "source": [
    "# {\n",
    "#   \"coord\": {\n",
    "#     \"lon\": -122.08,\n",
    "#     \"lat\": 37.39\n",
    "#   },\n",
    "#   \"weather\": [\n",
    "#     {\n",
    "#       \"id\": 800,\n",
    "#       \"main\": \"Clear\",\n",
    "#       \"description\": \"clear sky\",\n",
    "#       \"icon\": \"01d\"\n",
    "#     }\n",
    "#   ],\n",
    "#   \"base\": \"stations\",\n",
    "#   \"main\": {\n",
    "#     \"temp\": 282.55,\n",
    "#     \"feels_like\": 281.86,\n",
    "#     \"temp_min\": 280.37,\n",
    "#     \"temp_max\": 284.26,\n",
    "#     \"pressure\": 1023,\n",
    "#     \"humidity\": 100\n",
    "#   },\n",
    "#   \"visibility\": 16093,\n",
    "#   \"wind\": {\n",
    "#     \"speed\": 1.5,\n",
    "#     \"deg\": 350\n",
    "#   },\n",
    "#   \"clouds\": {\n",
    "#     \"all\": 1\n",
    "#   },\n",
    "#   \"dt\": 1560350645,\n",
    "#   \"sys\": {\n",
    "#     \"type\": 1,\n",
    "#     \"id\": 5122,\n",
    "#     \"message\": 0.0139,\n",
    "#     \"country\": \"US\",\n",
    "#     \"sunrise\": 1560343627,\n",
    "#     \"sunset\": 1560396563\n",
    "#   },\n",
    "#   \"timezone\": -25200,\n",
    "#   \"id\": 420006353,\n",
    "#   \"name\": \"Mountain View\",\n",
    "#   \"cod\": 200\n",
    "#   }               "
   ]
  },
  {
   "cell_type": "code",
   "execution_count": 64,
   "metadata": {
    "scrolled": true
   },
   "outputs": [
    {
     "name": "stdout",
     "output_type": "stream",
     "text": [
      "Processed voloshka with ID 472387\n",
      "amderma not found\n",
      "Processed rikitea with ID 4030556\n",
      "Processed popondetta with ID 2088163\n",
      "Processed laguna with ID 5364271\n",
      "nizhneyansk not found\n",
      "Processed stutterheim with ID 951650\n",
      "Processed avarua with ID 4035715\n",
      "Processed panna with ID 1260454\n",
      "Processed zaranj with ID 1120985\n",
      "Processed mataura with ID 6201424\n",
      "Processed cockburn town with ID 3576994\n",
      "Processed graham with ID 5795906\n",
      "Processed norilsk with ID 1497337\n",
      "Processed roswell with ID 4219934\n",
      "Processed wahiawa with ID 5853992\n",
      "Processed salalah with ID 286621\n",
      "Processed souillac with ID 933995\n",
      "Processed port alfred with ID 964432\n",
      "Processed kahului with ID 5847411\n",
      "attawapiskat not found\n",
      "Processed busselton with ID 2075265\n",
      "Processed ulaangom with ID 1515029\n",
      "Processed albany with ID 5106841\n",
      "Processed nhulunbuy with ID 2064735\n",
      "Processed ushuaia with ID 3833367\n",
      "Processed kachiry with ID 1523662\n",
      "Processed faya with ID 110690\n",
      "Processed punta arenas with ID 3874787\n",
      "Processed big spring with ID 5517061\n",
      "Processed kribi with ID 2229761\n",
      "Processed cairns with ID 2172797\n",
      "Processed praya with ID 3374333\n",
      "Processed santiago del estero with ID 3835869\n",
      "Processed butaritari with ID 2110227\n",
      "Processed sao miguel do araguaia with ID 3448455\n",
      "Processed esperance with ID 2071860\n",
      "Processed starokostyantyniv with ID 692818\n",
      "taolanaro not found\n",
      "Processed hamburg with ID 2911298\n",
      "Processed petropavlovsk-kamchatskiy with ID 2122104\n",
      "Processed carnarvon with ID 2074865\n",
      "Processed dumka with ID 1272237\n",
      "Processed port elizabeth with ID 964420\n",
      "Processed kapaa with ID 5848280\n",
      "illoqqortoormiut not found\n",
      "Processed san carlos de bariloche with ID 7647007\n",
      "Processed mahebourg with ID 934322\n",
      "Processed asau with ID 686090\n",
      "Processed el dorado with ID 5345659\n",
      "Processed denpasar with ID 1645528\n",
      "tasbuget not found\n",
      "Processed barrow with ID 5880054\n",
      "Processed hobart with ID 2163355\n",
      "Processed asyut with ID 359783\n",
      "Processed fernie with ID 5952370\n",
      "Processed zaysan with ID 1517060\n",
      "Processed aklavik with ID 5882953\n",
      "Processed alnashi with ID 582423\n",
      "Processed vangaindrano with ID 1054329\n",
      "Processed airai with ID 1651810\n",
      "Processed thompson with ID 6165406\n",
      "Processed isangel with ID 2136825\n",
      "Processed hualmay with ID 3939761\n",
      "Processed ketchikan with ID 5554428\n",
      "Processed fort nelson with ID 5955902\n",
      "Processed hithadhoo with ID 1282256\n",
      "Processed port hedland with ID 2063042\n",
      "Processed robertsport with ID 2274275\n",
      "Processed haines junction with ID 5969025\n",
      "dujuma not found\n",
      "Processed jerome with ID 5597034\n",
      "Processed meridian with ID 5600685\n",
      "Processed port-cartier with ID 6111696\n",
      "Processed port lincoln with ID 2063036\n",
      "Processed san luis obispo with ID 5392329\n",
      "Processed constitucion with ID 3893726\n",
      "Processed wagar with ID 364027\n",
      "Processed xinyu with ID 1788508\n",
      "Processed ko samui with ID 1154689\n",
      "Processed hearst with ID 5973108\n",
      "Processed bilibino with ID 2126682\n",
      "belushya guba not found\n",
      "Processed castro with ID 3466704\n",
      "Processed anadyr with ID 2127202\n",
      "Processed bluff with ID 2206939\n",
      "Processed medea with ID 2488835\n",
      "Processed iwanai with ID 2129868\n",
      "Processed galeana with ID 4006081\n",
      "Processed saint anthony with ID 5044290\n",
      "Processed kaeo with ID 2189343\n",
      "tumannyy not found\n",
      "Processed katsuura with ID 2112309\n",
      "Processed gaogou with ID 1810553\n",
      "Processed port-gentil with ID 2396518\n",
      "Processed yumen with ID 1528998\n",
      "Processed bakchar with ID 1511057\n",
      "Processed sudbury with ID 5964700\n",
      "Processed saldanha with ID 3361934\n",
      "Processed torbay with ID 6167817\n",
      "Processed tiksi with ID 2015306\n",
      "Processed ust-omchug with ID 2120047\n",
      "Processed broken hill with ID 2173911\n",
      "Processed tuktoyaktuk with ID 6170031\n",
      "Processed jamestown with ID 5122534\n",
      "Processed khatanga with ID 2022572\n",
      "Processed bengkulu with ID 1649150\n",
      "Processed geraldton with ID 2070998\n",
      "saleaula not found\n",
      "Processed weligama with ID 1223738\n",
      "Processed quatre cocos with ID 1106643\n",
      "Processed atikokan with ID 5888001\n",
      "Processed cape town with ID 3369157\n",
      "Processed kautokeino with ID 779330\n",
      "Processed nome with ID 5870133\n",
      "Processed ryotsu with ID 1853371\n",
      "Processed koidu with ID 2407660\n",
      "paradwip not found\n",
      "Processed la ronge with ID 6050066\n",
      "samusu not found\n",
      "Processed ancud with ID 3899695\n",
      "tabiauea not found\n",
      "tsihombe not found\n",
      "Processed camacha with ID 2270385\n",
      "Processed nikolskoye with ID 546105\n",
      "Processed puerto ayora with ID 3652764\n",
      "Processed porto santo with ID 8010683\n",
      "Processed hay river with ID 5972762\n",
      "Processed lasa with ID 3175096\n",
      "Processed lagoa with ID 3372964\n",
      "Processed fortuna with ID 5563839\n",
      "Processed narrabri with ID 2155742\n",
      "Processed qaanaaq with ID 3831208\n",
      "Processed yerbogachen with ID 2012956\n",
      "Processed luderitz with ID 3355672\n",
      "Processed dharchula with ID 1272864\n",
      "Processed dikson with ID 1507390\n",
      "Processed henties bay with ID 3356832\n",
      "Processed chuy with ID 3443061\n",
      "Processed kodinar with ID 1266397\n",
      "Processed pacific grove with ID 5380437\n",
      "Processed yellowknife with ID 6185377\n",
      "Processed sorland with ID 3137469\n",
      "Processed zhuanghe with ID 1784055\n",
      "Processed changping with ID 2038154\n",
      "barentsburg not found\n",
      "Processed tasiilaq with ID 3424607\n",
      "Processed vaini with ID 4032243\n",
      "Processed caravelas with ID 3466980\n",
      "Processed ajdabiya with ID 89113\n",
      "Processed upernavik with ID 3418910\n",
      "Processed harper with ID 2276492\n",
      "Processed abu samrah with ID 172515\n",
      "Processed waverly with ID 5014208\n",
      "Processed freeport with ID 5117949\n",
      "Processed ixtapa with ID 4004293\n",
      "Processed ngaoundere with ID 2224827\n",
      "Processed hilo with ID 5855927\n",
      "Processed bathsheba with ID 3374083\n",
      "Processed lagos with ID 2332453\n",
      "Processed east london with ID 1006984\n",
      "nguiu not found\n",
      "Processed ponta do sol with ID 2264557\n",
      "Processed notre-dame-de-gravenchon with ID 2990056\n",
      "Processed ussel with ID 2971298\n",
      "Processed bethel with ID 5282297\n",
      "Processed severo-kurilsk with ID 2121385\n",
      "Processed margate with ID 2643044\n",
      "Processed namibe with ID 3347019\n",
      "Processed taltal with ID 3870243\n",
      "Processed bredasdorp with ID 1015776\n",
      "Processed bambous virieux with ID 1106677\n",
      "Processed lensk with ID 2020838\n",
      "Processed georgetown with ID 1735106\n",
      "bandar penggaram not found\n",
      "Processed iqaluit with ID 5983720\n",
      "Processed pauini with ID 3662927\n",
      "Processed vardo with ID 777019\n",
      "Processed puerto baquerizo moreno with ID 3652758\n",
      "Processed obzor with ID 728674\n",
      "Processed new norfolk with ID 2155415\n",
      "Processed hermanus with ID 3366880\n",
      "Processed atuona with ID 4020109\n",
      "Processed kaitangata with ID 2208248\n",
      "Processed urumqi with ID 1529102\n",
      "Processed flinders with ID 6255012\n",
      "Processed guerrero negro with ID 4021858\n",
      "Processed vao with ID 2137773\n",
      "Processed kodiak with ID 5866583\n",
      "Processed ilulissat with ID 3423146\n",
      "Processed saint-philippe with ID 935215\n",
      "Processed matagami with ID 6067747\n",
      "Processed killybegs with ID 2963295\n",
      "Processed waitati with ID 2179825\n",
      "Processed kununurra with ID 2068110\n",
      "Processed egvekinot with ID 4031742\n",
      "Processed cherskiy with ID 2126199\n",
      "Processed birobidzhan with ID 2026643\n",
      "Processed mokhotlong with ID 932416\n",
      "Processed bardiyah with ID 80509\n",
      "Processed kruisfontein with ID 986717\n",
      "Processed chokurdakh with ID 2126123\n",
      "Processed kavaratti with ID 1267390\n",
      "rungata not found\n",
      "Processed caarapo with ID 3466993\n",
      "Processed watsa with ID 204283\n",
      "Processed arraial do cabo with ID 3471451\n",
      "Processed butte with ID 5332191\n",
      "Processed clyde river with ID 5924351\n",
      "Processed piacabucu with ID 3454005\n",
      "Processed cacequi with ID 3468553\n",
      "Processed eureka with ID 5563397\n",
      "Processed yichang with ID 1786764\n",
      "Processed shihezi with ID 1529195\n",
      "mys shmidta not found\n",
      "banmo not found\n",
      "Processed vilcun with ID 3868210\n",
      "Processed provideniya with ID 4031574\n",
      "stoyba not found\n",
      "Processed pevek with ID 2122090\n",
      "Processed mar del plata with ID 3430863\n",
      "Processed ranong with ID 1150965\n",
      "vathilakkos not found\n",
      "Processed san patricio with ID 4726521\n",
      "ust-kamchatsk not found\n",
      "Processed tchamba with ID 2363908\n",
      "Processed columbia with ID 4575352\n",
      "Processed klaksvik with ID 2618795\n",
      "Processed palmer with ID 4946620\n",
      "Processed lorengau with ID 2092164\n",
      "Processed uherske hradiste with ID 3063739\n",
      "Processed kyren with ID 2021031\n",
      "Processed vila velha with ID 3445026\n",
      "Processed americus with ID 4179667\n",
      "Processed ola with ID 2122574\n",
      "Processed carroll with ID 4350461\n",
      "hendijan not found\n",
      "Processed ashford with ID 2656955\n",
      "Processed namwala with ID 901766\n",
      "Processed longyearbyen with ID 2729907\n",
      "Processed chunskiy with ID 1507636\n",
      "Processed the valley with ID 3573374\n",
      "Processed barcelos with ID 2742416\n",
      "umzimvubu not found\n",
      "Processed hovd with ID 1516048\n",
      "Processed bandar-e lengeh with ID 141665\n",
      "Processed simiti with ID 3668012\n",
      "Processed pucallpa with ID 3693345\n",
      "Processed sovetskoye with ID 1491219\n",
      "galiwinku not found\n",
      "Processed gravdal with ID 3155152\n",
      "Processed seoul with ID 1835848\n",
      "wulanhaote not found\n",
      "Processed lebu with ID 3883457\n",
      "Processed oneonta with ID 5129852\n",
      "Processed shizunai with ID 2128025\n",
      "tuggurt not found\n",
      "Processed lingao with ID 1803560\n",
      "Processed hamilton with ID 4513583\n",
      "Processed ahvaz with ID 144448\n",
      "vestbygda not found\n",
      "Processed sungaipenuh with ID 1625929\n",
      "Processed pictou with ID 6104221\n",
      "Processed faanui with ID 4034551\n",
      "Processed atbasar with ID 1526038\n",
      "Processed paramonga with ID 3933024\n",
      "Processed barao de melgaco with ID 3470871\n",
      "Processed adet with ID 345353\n",
      "abu jubayhah not found\n",
      "Processed marysville with ID 5802570\n",
      "urdzhar not found\n",
      "Processed malanje with ID 2239862\n",
      "Processed huarmey with ID 3939168\n",
      "Processed karratha with ID 6620339\n",
      "Processed koungou with ID 1090225\n",
      "Processed wenling with ID 1791464\n",
      "Processed whitehorse with ID 6180550\n",
      "Processed tadine with ID 2138285\n",
      "Processed hobyo with ID 57000\n",
      "Processed warri with ID 2319133\n",
      "ye not found\n",
      "Processed te anau with ID 2181625\n",
      "Processed horodnytsya with ID 708324\n",
      "Processed kabansk with ID 2023350\n",
      "Processed alabel with ID 1731744\n",
      "Processed batagay with ID 2027044\n",
      "Processed okhotsk with ID 2122605\n",
      "Processed yokadouma with ID 2220853\n",
      "mullaitivu not found\n",
      "Processed aksarka with ID 1512019\n",
      "Processed havre-saint-pierre with ID 5972291\n",
      "Processed kankakee with ID 4898188\n",
      "Processed gornozavodsk with ID 559752\n",
      "Processed tuatapere with ID 2180815\n",
      "Processed hasaki with ID 2112802\n",
      "Processed alofi with ID 4036284\n",
      "Processed oranjemund with ID 3354071\n",
      "Processed cabinda with ID 2243271\n",
      "vaitupu not found\n",
      "Processed coahuayana with ID 4013679\n",
      "Processed ntungamo with ID 227592\n",
      "Processed gornopravdinsk with ID 1506268\n",
      "Processed talnakh with ID 1490256\n",
      "Processed cayenne with ID 3382160\n",
      "Processed pingdingshan with ID 1798827\n",
      "Processed filadelfia with ID 4560349\n",
      "Processed victoria with ID 1819729\n",
      "Processed tibiri with ID 2438774\n",
      "Processed ribeira grande with ID 3372707\n",
      "Processed twin falls with ID 5610815\n",
      "Processed zapolyarnyy with ID 464790\n",
      "Processed dryden with ID 5942913\n",
      "Processed gorom-gorom with ID 2360372\n",
      "Processed norman wells with ID 6089245\n",
      "Processed dunedin with ID 2191562\n",
      "Processed lere with ID 2332079\n",
      "Processed richards bay with ID 962367\n",
      "umm ruwabah not found\n",
      "Processed porto novo with ID 2392087\n",
      "Processed sangar with ID 2017215\n",
      "Processed aykhal with ID 2027296\n",
      "Processed homer with ID 5864145\n",
      "Processed novyy urgal with ID 2047258\n",
      "Processed mehamn with ID 778707\n",
      "Processed puga with ID 3991323\n",
      "Processed ewa beach with ID 5855051\n",
      "lephepe not found\n",
      "Processed puerto leguizamo with ID 3671437\n",
      "Processed severo-yeniseyskiy with ID 1492566\n",
      "Processed sambava with ID 1056899\n",
      "Processed saint george with ID 5546220\n",
      "cam pha not found\n",
      "Processed peniche with ID 2264923\n",
      "Processed yekaterinovka with ID 468180\n",
      "Processed camopi with ID 3382226\n",
      "cumaribo not found\n",
      "louisbourg not found\n",
      "Processed avera with ID 4231997\n",
      "Processed mkushi with ID 906221\n",
      "Processed college with ID 5859699\n",
      "Processed marystown with ID 6067472\n",
      "Processed buin with ID 3897774\n",
      "Processed yulara with ID 6355222\n",
      "Processed lamia with ID 258620\n",
      "Processed madera with ID 5369578\n",
      "Processed gat with ID 293842\n",
      "Processed jaru with ID 3925040\n",
      "Processed riyadh with ID 108410\n",
      "Processed pietarsaari with ID 642455\n",
      "tidore not found\n",
      "mergui not found\n",
      "Processed syasstroy with ID 485313\n",
      "Processed ambon with ID 1651531\n",
      "Processed cabo san lucas with ID 3985710\n",
      "Processed bijie with ID 1816373\n",
      "Processed wanning with ID 1791779\n",
      "Processed los banos with ID 1705539\n",
      "Processed livingstone with ID 910111\n",
      "Processed mankono with ID 2284589\n",
      "Processed morondava with ID 1058381\n",
      "Processed pokhara with ID 1282898\n",
      "Processed leh with ID 1264976\n",
      "Processed pierre with ID 5767918\n",
      "Processed maraba with ID 3395503\n",
      "gorno-chuyskiy not found\n",
      "Processed quincy with ID 4948247\n",
      "Processed vytegra with ID 469960\n",
      "Processed sulgen with ID 2658455\n",
      "Processed creemore with ID 5932143\n",
      "Processed dingle with ID 1714733\n",
      "Processed kuytun with ID 2021093\n",
      "Processed husavik with ID 2629833\n",
      "Processed dongsheng with ID 1812256\n",
      "Processed pithoragarh with ID 1259503\n",
      "Processed mount gambier with ID 2156643\n",
      "Processed netishyn with ID 700261\n",
      "Processed byron bay with ID 2172880\n",
      "Processed paka with ID 1734313\n",
      "maloshuyka not found\n",
      "Processed karangasem with ID 1641301\n",
      "Processed cidreira with ID 3466165\n",
      "Processed belyy yar with ID 1510377\n",
      "Processed sorong with ID 1626542\n",
      "Processed narsaq with ID 3421719\n",
      "tsienyane not found\n",
      "Processed beaverlodge with ID 5896969\n",
      "Processed berlevag with ID 780687\n",
      "Processed korla with ID 1529376\n",
      "Processed baker city with ID 5712169\n",
      "Processed pangai with ID 4032369\n",
      "juifang not found\n",
      "Processed launceston with ID 2160517\n",
      "Processed nuevo progreso with ID 3522526\n",
      "Processed sao domingos do prata with ID 3449219\n",
      "Processed waingapu with ID 1622318\n",
      "Processed pitimbu with ID 3391889\n",
      "Processed winnemucca with ID 5710360\n",
      "Processed progreso with ID 3521108\n",
      "Processed leningradskiy with ID 2123814\n",
      "Processed borba with ID 3405051\n",
      "Processed myitkyina with ID 1307741\n",
      "Processed raudeberg with ID 3146487\n",
      "Processed saint-leu with ID 6690297\n",
      "Processed ghanzi with ID 933759\n",
      "Processed zavyalovo with ID 1505506\n",
      "Processed inhambane with ID 1045114\n",
      "Processed ferme-neuve with ID 5952330\n",
      "Processed kavieng with ID 2094342\n",
      "Processed tromso with ID 6453316\n",
      "Processed mumbwa with ID 904422\n",
      "tapaua not found\n",
      "Processed nanakuli with ID 5851349\n",
      "Processed benguela with ID 3351663\n",
      "Processed tonantins with ID 3661894\n",
      "Processed alta floresta with ID 6316343\n",
      "Processed taywarah with ID 1122464\n",
      "Processed pisco with ID 3932145\n",
      "Processed roma with ID 5134295\n",
      "Processed sohag with ID 347796\n",
      "Processed vila franca do campo with ID 3372472\n",
      "Processed udachnyy with ID 2014624\n",
      "Processed bereda with ID 3105522\n",
      "Processed puerto escondido with ID 3520994\n",
      "Processed naze with ID 1855540\n",
      "Processed sumenep with ID 1626099\n",
      "Processed zhangjiakou with ID 2033196\n",
      "Processed xacmaz with ID 584717\n",
      "Processed ust-ilimsk with ID 2013952\n",
      "Processed tual with ID 1623197\n",
      "Processed folldal with ID 3156868\n",
      "Processed talcahuano with ID 3870282\n",
      "Processed biak with ID 1637001\n",
      "Processed nova lima with ID 3456147\n",
      "grand river south east not found\n",
      "Processed tabou with ID 2281120\n",
      "Processed kysyl-syr with ID 2021017\n",
      "Processed zwedru with ID 2272491\n",
      "Processed amalapuram with ID 1278935\n",
      "Processed shadrinsk with ID 1492517\n",
      "Processed zhongshu with ID 1784310\n",
      "Processed liverpool with ID 2644210\n",
      "babanusah not found\n",
      "Processed sarakhs with ID 1159716\n",
      "Processed lavrentiya with ID 4031637\n",
      "Processed port hardy with ID 6111862\n",
      "Processed puri with ID 1259184\n",
      "Processed araouane with ID 2460954\n",
      "Processed tahoua with ID 2439376\n",
      "Processed montrose with ID 5431716\n",
      "Processed ostrovnoy with ID 556268\n",
      "Processed yaan with ID 2338660\n",
      "Processed olafsvik with ID 3414079\n",
      "jiddah not found\n",
      "tubruq not found\n",
      "Processed shache with ID 1280037\n",
      "Processed altamira with ID 3407882\n",
      "Processed lompoc with ID 5367788\n",
      "Processed dhidhdhoo with ID 1337612\n",
      "Processed along with ID 1278969\n",
      "Processed karasjok with ID 779350\n",
      "Processed aden with ID 415189\n",
      "Processed wattegama with ID 1224061\n",
      "Processed pangnirtung with ID 6096551\n",
      "Processed astana with ID 1526273\n",
      "Processed livingston with ID 2644204\n",
      "Processed sinnamary with ID 3380290\n",
      "Processed marsh harbour with ID 3571913\n",
      "sentyabrskiy not found\n",
      "Processed ambilobe with ID 1082243\n",
      "Processed vestmannaeyjar with ID 3412093\n",
      "Processed garhshankar with ID 1271538\n",
      "Processed zhigansk with ID 2012530\n",
      "Processed letpadan with ID 1292313\n",
      "Processed marsabit with ID 187585\n",
      "Processed januaria with ID 3460148\n",
      "Processed marzuq with ID 72181\n",
      "Processed damara with ID 2387435\n",
      "Processed boaco with ID 3620674\n",
      "Processed leshukonskoye with ID 535839\n",
      "Processed alekseyevsk with ID 2022083\n",
      "Processed gweta with ID 933734\n",
      "marcona not found\n",
      "Processed agirish with ID 1512101\n",
      "Processed qalyub with ID 350789\n",
      "Processed sao filipe with ID 3374210\n",
      "Processed ibotirama with ID 3461525\n",
      "lolua not found\n",
      "Processed miramar with ID 4164601\n",
      "Processed kishtwar with ID 1266475\n",
      "Processed biala podlaska with ID 776175\n",
      "Processed camocim with ID 3403687\n",
      "Processed awjilah with ID 88533\n",
      "Processed sisimiut with ID 3419842\n",
      "Processed necochea with ID 3430443\n",
      "Processed clarksburg with ID 4802316\n",
      "rawannawi not found\n",
      "Processed grindavik with ID 3416888\n",
      "Processed davenda with ID 2021980\n",
      "Processed havelock with ID 4470244\n",
      "Processed kurilsk with ID 2123979\n",
      "Processed darnah with ID 87205\n",
      "Processed caribou with ID 4960140\n",
      "bolungarvik not found\n",
      "Processed tay ninh with ID 1566559\n",
      "Processed belen with ID 321572\n",
      "Processed nanortalik with ID 3421765\n",
      "Processed umm lajj with ID 100926\n",
      "Processed verkhnetulomskiy with ID 475469\n",
      "Processed saskylakh with ID 2017155\n",
      "Processed qaqortoq with ID 3420846\n",
      "Processed sumalig with ID 1958516\n",
      "Processed arkul with ID 580931\n",
      "Processed kulhudhuffushi with ID 1337613\n",
      "Processed axim with ID 2303611\n",
      "Processed bowmore with ID 4486983\n",
      "Processed ayagoz with ID 1525988\n",
      "Processed charters towers with ID 2171722\n",
      "Processed bubaque with ID 2374583\n",
      "lyubeshiv not found\n",
      "Processed princeton with ID 4169345\n",
      "Processed zyryanka with ID 2119283\n",
      "Processed san lorenzo with ID 3437056\n",
      "Processed kangaba with ID 2455735\n",
      "Processed neiafu with ID 4032420\n",
      "Processed dali with ID 1814093\n",
      "Processed akhtanizovskaya with ID 583811\n",
      "Processed komsomolskiy with ID 1513491\n",
      "Processed perth with ID 2063523\n",
      "Processed praia da vitoria with ID 3372760\n",
      "Processed ponta delgada with ID 3372783\n",
      "Processed digby with ID 5939236\n",
      "Processed mastic beach with ID 5126209\n",
      "Processed kargasok with ID 1504382\n",
      "Processed lima with ID 3936456\n",
      "Processed broome with ID 5110365\n",
      "Processed altay with ID 1529651\n",
      "Processed sao joao da barra with ID 3448903\n",
      "Processed carutapera with ID 3402648\n",
      "Processed porto san giorgio with ID 3170073\n",
      "Processed slave lake with ID 6149374\n",
      "Processed ahuimanu with ID 5856516\n",
      "Processed romanovka with ID 501468\n",
      "chagda not found\n",
      "Processed mount isa with ID 2065594\n",
      "Processed rafaela with ID 3839479\n",
      "Processed asmara with ID 343300\n",
      "Processed mogadishu with ID 53654\n",
      "Processed natchez with ID 4437982\n",
      "Processed meulaboh with ID 1214488\n",
      "Processed bud with ID 4255151\n",
      "Processed meiringen with ID 2659700\n",
      "Processed mumford with ID 2297810\n",
      "Processed bonavista with ID 5905393\n",
      "Processed tres arroyos with ID 3833859\n",
      "Processed acari with ID 3948613\n",
      "Processed malakal with ID 370737\n",
      "Processed arlit with ID 2447513\n",
      "Processed traiskirchen with ID 2763460\n",
      "Processed nicoya with ID 3622716\n",
      "Processed sao jose da coroa grande with ID 3388456\n",
      "Processed kambove with ID 923058\n",
      "Processed sayhat with ID 102318\n",
      "Processed oyama with ID 1853483\n",
      "Processed mvuma with ID 884814\n",
      "Processed zatoka with ID 687557\n",
      "Processed irece with ID 3461013\n",
      "Processed colesberg with ID 1013076\n",
      "Processed zabkowice slaskie with ID 3081046\n",
      "Processed ruteng with ID 1629380\n",
      "Processed ken caryl with ID 5427207\n",
      "Processed flin flon with ID 5954718\n",
      "Processed kutum with ID 371745\n",
      "Processed evansville with ID 4257227\n",
      "Processed piopio with ID 2184564\n",
      "Processed ahmadpur east with ID 1184845\n",
      "Processed port blair with ID 1259385\n",
      "Processed ljungby with ID 2694560\n",
      "Processed bolshevik with ID 625144\n",
      "Processed mao with ID 2514301\n",
      "Processed xining with ID 1788852\n",
      "yirol not found\n",
      "Processed coquimbo with ID 3893629\n",
      "Processed eirunepe with ID 3664321\n",
      "Processed mitsamiouli with ID 921786\n",
      "Processed santa cruz with ID 3904906\n",
      "Processed leticia with ID 3676623\n",
      "Processed snyder with ID 5530921\n",
      "Processed beloha with ID 1067565\n",
      "Processed severnoye with ID 1492607\n",
      "Processed alice springs with ID 2077895\n",
      "Processed sibolga with ID 1213855\n",
      "Processed nova olimpia with ID 3456137\n",
      "Processed san quintin with ID 3984997\n",
      "Processed quzhou with ID 1797264\n",
      "Processed vestmanna with ID 2610343\n",
      "Processed lebanon with ID 4636045\n",
      "valjala not found\n",
      "Processed maridi with ID 370457\n"
     ]
    }
   ],
   "source": [
    "city_data = []\n",
    "# i=1\n",
    "for city in cities:\n",
    "    try:\n",
    "        url = f\"http://api.openweathermap.org/data/2.5/weather?q={city}&appid={weather_api_key}&units=imperial\"\n",
    "        response = requests.get(url).json()\n",
    "        lat = response[\"coord\"][\"lat\"]\n",
    "        lng = response[\"coord\"][\"lon\"]\n",
    "        max_temp = response[\"main\"][\"temp_max\"]\n",
    "        hum = response[\"main\"][\"humidity\"]\n",
    "        cloud = response[\"clouds\"][\"all\"]\n",
    "        wind_sp = response[\"wind\"][\"speed\"]\n",
    "        country = response[\"sys\"][\"country\"]\n",
    "        date = response[\"dt\"]\n",
    "        city_data.append({\n",
    "            \"City\" : city,\n",
    "            \"Lat\": lat,\n",
    "            \"Lng\": lng,\n",
    "            \"Max Temp\": max_temp,\n",
    "            \"Humidity\": hum,\n",
    "            \"Cloudiness\": cloud,\n",
    "            \"Wind Speed\": wind_sp,\n",
    "            \"Country\": country,\n",
    "            \"Date\": date\n",
    "        })\n",
    "        city_id = response[\"id\"]\n",
    "        print(f\"Processed {city} with ID {city_id}\")\n",
    "#         i += 1\n",
    "#         if i == 25:\n",
    "#             break\n",
    "    except:\n",
    "        print(f\"{city} not found\")\n",
    "#         i += 1\n",
    "#         if i == 25:\n",
    "#             break"
   ]
  },
  {
   "cell_type": "markdown",
   "metadata": {},
   "source": [
    "### Convert Raw Data to DataFrame\n",
    "* Export the city data into a .csv.\n",
    "* Display the DataFrame"
   ]
  },
  {
   "cell_type": "code",
   "execution_count": 65,
   "metadata": {},
   "outputs": [
    {
     "data": {
      "text/html": [
       "<div>\n",
       "<style scoped>\n",
       "    .dataframe tbody tr th:only-of-type {\n",
       "        vertical-align: middle;\n",
       "    }\n",
       "\n",
       "    .dataframe tbody tr th {\n",
       "        vertical-align: top;\n",
       "    }\n",
       "\n",
       "    .dataframe thead th {\n",
       "        text-align: right;\n",
       "    }\n",
       "</style>\n",
       "<table border=\"1\" class=\"dataframe\">\n",
       "  <thead>\n",
       "    <tr style=\"text-align: right;\">\n",
       "      <th></th>\n",
       "      <th>City</th>\n",
       "      <th>Lat</th>\n",
       "      <th>Lng</th>\n",
       "      <th>Max Temp</th>\n",
       "      <th>Humidity</th>\n",
       "      <th>Cloudiness</th>\n",
       "      <th>Wind Speed</th>\n",
       "      <th>Country</th>\n",
       "      <th>Date</th>\n",
       "    </tr>\n",
       "  </thead>\n",
       "  <tbody>\n",
       "    <tr>\n",
       "      <th>0</th>\n",
       "      <td>voloshka</td>\n",
       "      <td>61.3314</td>\n",
       "      <td>40.0858</td>\n",
       "      <td>31.93</td>\n",
       "      <td>97</td>\n",
       "      <td>100</td>\n",
       "      <td>1.43</td>\n",
       "      <td>RU</td>\n",
       "      <td>1616777715</td>\n",
       "    </tr>\n",
       "    <tr>\n",
       "      <th>1</th>\n",
       "      <td>rikitea</td>\n",
       "      <td>-23.1203</td>\n",
       "      <td>-134.9692</td>\n",
       "      <td>79.25</td>\n",
       "      <td>71</td>\n",
       "      <td>9</td>\n",
       "      <td>20.18</td>\n",
       "      <td>PF</td>\n",
       "      <td>1616777716</td>\n",
       "    </tr>\n",
       "    <tr>\n",
       "      <th>2</th>\n",
       "      <td>popondetta</td>\n",
       "      <td>-8.7537</td>\n",
       "      <td>148.2534</td>\n",
       "      <td>74.01</td>\n",
       "      <td>90</td>\n",
       "      <td>100</td>\n",
       "      <td>2.89</td>\n",
       "      <td>PG</td>\n",
       "      <td>1616777716</td>\n",
       "    </tr>\n",
       "    <tr>\n",
       "      <th>3</th>\n",
       "      <td>laguna</td>\n",
       "      <td>38.4210</td>\n",
       "      <td>-121.4238</td>\n",
       "      <td>57.00</td>\n",
       "      <td>47</td>\n",
       "      <td>1</td>\n",
       "      <td>12.66</td>\n",
       "      <td>US</td>\n",
       "      <td>1616777716</td>\n",
       "    </tr>\n",
       "    <tr>\n",
       "      <th>4</th>\n",
       "      <td>stutterheim</td>\n",
       "      <td>-32.5708</td>\n",
       "      <td>27.4240</td>\n",
       "      <td>71.60</td>\n",
       "      <td>78</td>\n",
       "      <td>0</td>\n",
       "      <td>12.66</td>\n",
       "      <td>ZA</td>\n",
       "      <td>1616777717</td>\n",
       "    </tr>\n",
       "    <tr>\n",
       "      <th>...</th>\n",
       "      <td>...</td>\n",
       "      <td>...</td>\n",
       "      <td>...</td>\n",
       "      <td>...</td>\n",
       "      <td>...</td>\n",
       "      <td>...</td>\n",
       "      <td>...</td>\n",
       "      <td>...</td>\n",
       "      <td>...</td>\n",
       "    </tr>\n",
       "    <tr>\n",
       "      <th>534</th>\n",
       "      <td>san quintin</td>\n",
       "      <td>30.4833</td>\n",
       "      <td>-115.9500</td>\n",
       "      <td>58.23</td>\n",
       "      <td>64</td>\n",
       "      <td>66</td>\n",
       "      <td>12.44</td>\n",
       "      <td>MX</td>\n",
       "      <td>1616777866</td>\n",
       "    </tr>\n",
       "    <tr>\n",
       "      <th>535</th>\n",
       "      <td>quzhou</td>\n",
       "      <td>28.9594</td>\n",
       "      <td>118.8686</td>\n",
       "      <td>62.17</td>\n",
       "      <td>79</td>\n",
       "      <td>21</td>\n",
       "      <td>2.59</td>\n",
       "      <td>CN</td>\n",
       "      <td>1616777866</td>\n",
       "    </tr>\n",
       "    <tr>\n",
       "      <th>536</th>\n",
       "      <td>vestmanna</td>\n",
       "      <td>62.1564</td>\n",
       "      <td>-7.1664</td>\n",
       "      <td>39.20</td>\n",
       "      <td>52</td>\n",
       "      <td>40</td>\n",
       "      <td>24.16</td>\n",
       "      <td>FO</td>\n",
       "      <td>1616777867</td>\n",
       "    </tr>\n",
       "    <tr>\n",
       "      <th>537</th>\n",
       "      <td>lebanon</td>\n",
       "      <td>36.2081</td>\n",
       "      <td>-86.2911</td>\n",
       "      <td>63.00</td>\n",
       "      <td>63</td>\n",
       "      <td>1</td>\n",
       "      <td>3.74</td>\n",
       "      <td>US</td>\n",
       "      <td>1616777867</td>\n",
       "    </tr>\n",
       "    <tr>\n",
       "      <th>538</th>\n",
       "      <td>maridi</td>\n",
       "      <td>4.9158</td>\n",
       "      <td>29.4742</td>\n",
       "      <td>71.73</td>\n",
       "      <td>84</td>\n",
       "      <td>100</td>\n",
       "      <td>8.41</td>\n",
       "      <td>SS</td>\n",
       "      <td>1616777867</td>\n",
       "    </tr>\n",
       "  </tbody>\n",
       "</table>\n",
       "<p>539 rows × 9 columns</p>\n",
       "</div>"
      ],
      "text/plain": [
       "            City      Lat       Lng  Max Temp  Humidity  Cloudiness  \\\n",
       "0       voloshka  61.3314   40.0858     31.93        97         100   \n",
       "1        rikitea -23.1203 -134.9692     79.25        71           9   \n",
       "2     popondetta  -8.7537  148.2534     74.01        90         100   \n",
       "3         laguna  38.4210 -121.4238     57.00        47           1   \n",
       "4    stutterheim -32.5708   27.4240     71.60        78           0   \n",
       "..           ...      ...       ...       ...       ...         ...   \n",
       "534  san quintin  30.4833 -115.9500     58.23        64          66   \n",
       "535       quzhou  28.9594  118.8686     62.17        79          21   \n",
       "536    vestmanna  62.1564   -7.1664     39.20        52          40   \n",
       "537      lebanon  36.2081  -86.2911     63.00        63           1   \n",
       "538       maridi   4.9158   29.4742     71.73        84         100   \n",
       "\n",
       "     Wind Speed Country        Date  \n",
       "0          1.43      RU  1616777715  \n",
       "1         20.18      PF  1616777716  \n",
       "2          2.89      PG  1616777716  \n",
       "3         12.66      US  1616777716  \n",
       "4         12.66      ZA  1616777717  \n",
       "..          ...     ...         ...  \n",
       "534       12.44      MX  1616777866  \n",
       "535        2.59      CN  1616777866  \n",
       "536       24.16      FO  1616777867  \n",
       "537        3.74      US  1616777867  \n",
       "538        8.41      SS  1616777867  \n",
       "\n",
       "[539 rows x 9 columns]"
      ]
     },
     "execution_count": 65,
     "metadata": {},
     "output_type": "execute_result"
    }
   ],
   "source": [
    "city_data_df = pd.DataFrame(city_data)\n",
    "city_data_df"
   ]
  },
  {
   "cell_type": "code",
   "execution_count": 66,
   "metadata": {},
   "outputs": [
    {
     "data": {
      "text/html": [
       "<div>\n",
       "<style scoped>\n",
       "    .dataframe tbody tr th:only-of-type {\n",
       "        vertical-align: middle;\n",
       "    }\n",
       "\n",
       "    .dataframe tbody tr th {\n",
       "        vertical-align: top;\n",
       "    }\n",
       "\n",
       "    .dataframe thead th {\n",
       "        text-align: right;\n",
       "    }\n",
       "</style>\n",
       "<table border=\"1\" class=\"dataframe\">\n",
       "  <thead>\n",
       "    <tr style=\"text-align: right;\">\n",
       "      <th></th>\n",
       "      <th>Lat</th>\n",
       "      <th>Lng</th>\n",
       "      <th>Max Temp</th>\n",
       "      <th>Humidity</th>\n",
       "      <th>Cloudiness</th>\n",
       "      <th>Wind Speed</th>\n",
       "    </tr>\n",
       "  </thead>\n",
       "  <tbody>\n",
       "    <tr>\n",
       "      <th>count</th>\n",
       "      <td>539.000000</td>\n",
       "      <td>539.000000</td>\n",
       "      <td>539.000000</td>\n",
       "      <td>539.000000</td>\n",
       "      <td>539.000000</td>\n",
       "      <td>539.000000</td>\n",
       "    </tr>\n",
       "    <tr>\n",
       "      <th>mean</th>\n",
       "      <td>21.522454</td>\n",
       "      <td>10.698346</td>\n",
       "      <td>56.538813</td>\n",
       "      <td>69.831169</td>\n",
       "      <td>53.380334</td>\n",
       "      <td>8.408683</td>\n",
       "    </tr>\n",
       "    <tr>\n",
       "      <th>std</th>\n",
       "      <td>33.239357</td>\n",
       "      <td>90.136242</td>\n",
       "      <td>27.420368</td>\n",
       "      <td>22.069746</td>\n",
       "      <td>38.711233</td>\n",
       "      <td>5.888083</td>\n",
       "    </tr>\n",
       "    <tr>\n",
       "      <th>min</th>\n",
       "      <td>-54.800000</td>\n",
       "      <td>-179.166700</td>\n",
       "      <td>-32.570000</td>\n",
       "      <td>3.000000</td>\n",
       "      <td>0.000000</td>\n",
       "      <td>0.760000</td>\n",
       "    </tr>\n",
       "    <tr>\n",
       "      <th>25%</th>\n",
       "      <td>-8.046350</td>\n",
       "      <td>-69.618400</td>\n",
       "      <td>41.000000</td>\n",
       "      <td>57.000000</td>\n",
       "      <td>15.500000</td>\n",
       "      <td>3.925000</td>\n",
       "    </tr>\n",
       "    <tr>\n",
       "      <th>50%</th>\n",
       "      <td>28.166700</td>\n",
       "      <td>17.459700</td>\n",
       "      <td>63.000000</td>\n",
       "      <td>73.000000</td>\n",
       "      <td>59.000000</td>\n",
       "      <td>6.910000</td>\n",
       "    </tr>\n",
       "    <tr>\n",
       "      <th>75%</th>\n",
       "      <td>48.934900</td>\n",
       "      <td>86.090100</td>\n",
       "      <td>78.800000</td>\n",
       "      <td>87.000000</td>\n",
       "      <td>90.000000</td>\n",
       "      <td>11.500000</td>\n",
       "    </tr>\n",
       "    <tr>\n",
       "      <th>max</th>\n",
       "      <td>78.218600</td>\n",
       "      <td>178.416700</td>\n",
       "      <td>102.290000</td>\n",
       "      <td>100.000000</td>\n",
       "      <td>100.000000</td>\n",
       "      <td>29.930000</td>\n",
       "    </tr>\n",
       "  </tbody>\n",
       "</table>\n",
       "</div>"
      ],
      "text/plain": [
       "              Lat         Lng    Max Temp    Humidity  Cloudiness  Wind Speed\n",
       "count  539.000000  539.000000  539.000000  539.000000  539.000000  539.000000\n",
       "mean    21.522454   10.698346   56.538813   69.831169   53.380334    8.408683\n",
       "std     33.239357   90.136242   27.420368   22.069746   38.711233    5.888083\n",
       "min    -54.800000 -179.166700  -32.570000    3.000000    0.000000    0.760000\n",
       "25%     -8.046350  -69.618400   41.000000   57.000000   15.500000    3.925000\n",
       "50%     28.166700   17.459700   63.000000   73.000000   59.000000    6.910000\n",
       "75%     48.934900   86.090100   78.800000   87.000000   90.000000   11.500000\n",
       "max     78.218600  178.416700  102.290000  100.000000  100.000000   29.930000"
      ]
     },
     "execution_count": 66,
     "metadata": {},
     "output_type": "execute_result"
    }
   ],
   "source": [
    "stats_df = city_data_df[[\"Lat\", \"Lng\", \"Max Temp\", \"Humidity\", 'Cloudiness', 'Wind Speed']]\n",
    "count = stats_df.count()\n",
    "mean = stats_df.mean()\n",
    "std = stats_df.std()\n",
    "minimum = stats_df.min()\n",
    "lowerq = stats_df.quantile(q = 0.25)\n",
    "middleq = stats_df.quantile(q = 0.5)\n",
    "upperq = stats_df.quantile(q = 0.75)\n",
    "maximum = stats_df.max()\n",
    "summary_df = pd.DataFrame({\n",
    "    \"count\": count,\n",
    "    \"mean\": mean,\n",
    "    \"std\": std,\n",
    "    \"min\": minimum,\n",
    "    \"25%\": lowerq,\n",
    "    \"50%\": middleq,\n",
    "    \"75%\": upperq,\n",
    "    \"max\": maximum\n",
    "})\n",
    "#used https://stackoverflow.com/questions/17076705/invert-index-and-columns-in-a-pandas-dataframe\n",
    "summary_df = summary_df.T\n",
    "summary_df"
   ]
  },
  {
   "cell_type": "markdown",
   "metadata": {},
   "source": [
    "## Inspect the data and remove the cities where the humidity > 100%.\n",
    "----\n",
    "Skip this step if there are no cities that have humidity > 100%. "
   ]
  },
  {
   "cell_type": "code",
   "execution_count": 67,
   "metadata": {},
   "outputs": [
    {
     "data": {
      "text/plain": [
       "Lat           539\n",
       "Lng           539\n",
       "Max Temp      539\n",
       "Humidity      539\n",
       "Cloudiness    539\n",
       "Wind Speed    539\n",
       "dtype: int64"
      ]
     },
     "execution_count": 67,
     "metadata": {},
     "output_type": "execute_result"
    }
   ],
   "source": [
    "clean_data = stats_df[stats_df[\"Humidity\"] <= 100]\n",
    "clean_data.count()\n",
    "#same count = no cities over 100"
   ]
  },
  {
   "cell_type": "markdown",
   "metadata": {},
   "source": [
    "## Plotting the Data\n",
    "* Use proper labeling of the plots using plot titles (including date of analysis) and axes labels.\n",
    "* Save the plotted figures as .pngs."
   ]
  },
  {
   "cell_type": "markdown",
   "metadata": {},
   "source": [
    "## Latitude vs. Temperature Plot"
   ]
  },
  {
   "cell_type": "code",
   "execution_count": 75,
   "metadata": {
    "scrolled": true
   },
   "outputs": [
    {
     "data": {
      "image/png": "[encoded data removed]",
      "text/plain": [
       "<Figure size 432x288 with 1 Axes>"
      ]
     },
     "metadata": {
      "needs_background": "light"
     },
     "output_type": "display_data"
    }
   ],
   "source": [
    "max_temp = city_data_df[\"Max Temp\"]\n",
    "lat = city_data_df[\"Lat\"]\n",
    "plt.scatter(lat, max_temp)\n",
    "plt.title('City Latitude vs Max Temperature (03/25/2021)')\n",
    "plt.xlabel('Latitude')\n",
    "plt.ylabel('Max Temperature (F)')\n",
    "\n",
    "plt.show()"
   ]
  },
  {
   "cell_type": "markdown",
   "metadata": {},
   "source": [
    "## Latitude vs. Humidity Plot"
   ]
  },
  {
   "cell_type": "code",
   "execution_count": 79,
   "metadata": {},
   "outputs": [
    {
     "data": {
      "image/png": "[encoded data removed]",
      "text/plain": [
       "<Figure size 432x288 with 1 Axes>"
      ]
     },
     "metadata": {
      "needs_background": "light"
     },
     "output_type": "display_data"
    }
   ],
   "source": [
    "hum = city_data_df[\"Humidity\"]\n",
    "lat = city_data_df[\"Lat\"]\n",
    "plt.scatter(lat, hum)\n",
    "plt.title('City Latitude vs Humidity (03/25/2021)')\n",
    "plt.xlabel('Latitude')\n",
    "plt.ylabel('Humidity')\n",
    "\n",
    "plt.show()"
   ]
  },
  {
   "cell_type": "markdown",
   "metadata": {},
   "source": [
    "## Latitude vs. Cloudiness Plot"
   ]
  },
  {
   "cell_type": "code",
   "execution_count": 80,
   "metadata": {},
   "outputs": [
    {
     "data": {
      "image/png": "[encoded data removed]",
      "text/plain": [
       "<Figure size 432x288 with 1 Axes>"
      ]
     },
     "metadata": {
      "needs_background": "light"
     },
     "output_type": "display_data"
    }
   ],
   "source": [
    "max_temp = city_data_df[\"Max Temp\"]\n",
    "cloud = city_data_df[\"Cloudiness\"]\n",
    "plt.scatter(lat, cloud)\n",
    "plt.title('City Latitude vs Cloudiness (03/25/2021)')\n",
    "plt.xlabel('Latitude')\n",
    "plt.ylabel('Cloudiness')\n",
    "\n",
    "plt.show()"
   ]
  },
  {
   "cell_type": "markdown",
   "metadata": {},
   "source": [
    "## Latitude vs. Wind Speed Plot"
   ]
  },
  {
   "cell_type": "code",
   "execution_count": 81,
   "metadata": {},
   "outputs": [
    {
     "data": {
      "image/png": "[encoded data removed]",
      "text/plain": [
       "<Figure size 432x288 with 1 Axes>"
      ]
     },
     "metadata": {
      "needs_background": "light"
     },
     "output_type": "display_data"
    }
   ],
   "source": [
    "wind_sp = city_data_df[\"Wind Speed\"]\n",
    "lat = city_data_df[\"Lat\"]\n",
    "plt.scatter(lat, wind_sp)\n",
    "plt.title('City Latitude vs Wind Speed (03/25/2021)')\n",
    "plt.xlabel('Latitude')\n",
    "plt.ylabel('Wind Speed')\n",
    "\n",
    "plt.show()"
   ]
  },
  {
   "cell_type": "markdown",
   "metadata": {},
   "source": [
    "## Linear Regression"
   ]
  },
  {
   "cell_type": "code",
   "execution_count": null,
   "metadata": {},
   "outputs": [],
   "source": []
  },
  {
   "cell_type": "markdown",
   "metadata": {},
   "source": [
    "####  Northern Hemisphere - Max Temp vs. Latitude Linear Regression"
   ]
  },
  {
   "cell_type": "code",
   "execution_count": 95,
   "metadata": {},
   "outputs": [
    {
     "name": "stdout",
     "output_type": "stream",
     "text": [
      "The correlation between the northern hemisphere's latitude and max temperature is -0.87\n"
     ]
    },
    {
     "data": {
      "image/png": "[encoded data removed]",
      "text/plain": [
       "<Figure size 432x288 with 1 Axes>"
      ]
     },
     "metadata": {
      "needs_background": "light"
     },
     "output_type": "display_data"
    }
   ],
   "source": [
    "northern_lat = city_data_df[city_data_df[\"Lat\"] >= 0]\n",
    "nlat = northern_lat[\"Lat\"]\n",
    "max_temp = northern_lat[\"Max Temp\"]\n",
    "plt.scatter(nlat, max_temp)\n",
    "plt.title('City Latitude vs Max Temperature (03/25/2021)')\n",
    "plt.xlabel('Latitude')\n",
    "plt.ylabel('Max Temperature (F)')\n",
    "\n",
    "# Calculate the correlation coefficient and linear regression model \n",
    "# for northern hemisphere and max temp\n",
    "correlation = st.pearsonr(nlat, max_temp)\n",
    "print(f\"The correlation between the northern hemisphere's latitude and max temperature is {round(correlation[0],2)}\")\n",
    "\n",
    "#get linear regression equation\n",
    "(slope, intercept, rvalue, pvalue, stderr) = st.linregress(nlat, max_temp)\n",
    "regress_values = nlat * slope + intercept\n",
    "line_eq = \"y = \" + str(round(slope,2)) + \"x + \" + str(round(intercept,2))\n",
    "\n",
    "#add model to plot\n",
    "plt.plot(nlat, regress_values, \"r-\")\n",
    "plt.annotate(line_eq, (15, 0), fontsize=15, color=\"red\")\n",
    "plt.show()"
   ]
  },
  {
   "cell_type": "markdown",
   "metadata": {},
   "source": [
    "####  Southern Hemisphere - Max Temp vs. Latitude Linear Regression"
   ]
  },
  {
   "cell_type": "code",
   "execution_count": 97,
   "metadata": {},
   "outputs": [
    {
     "name": "stdout",
     "output_type": "stream",
     "text": [
      "The correlation between the southern hemisphere's latitude and max temperature is 0.67\n"
     ]
    },
    {
     "data": {
      "image/png": "[encoded data removed]",
      "text/plain": [
       "<Figure size 432x288 with 1 Axes>"
      ]
     },
     "metadata": {
      "needs_background": "light"
     },
     "output_type": "display_data"
    }
   ],
   "source": [
    "southern_lat = city_data_df[city_data_df[\"Lat\"] < 0]\n",
    "slat = southern_lat[\"Lat\"]\n",
    "max_temp = southern_lat[\"Max Temp\"]\n",
    "plt.scatter(slat, max_temp)\n",
    "plt.title('City Latitude vs Max Temperature (03/25/2021)')\n",
    "plt.xlabel('Latitude')\n",
    "plt.ylabel('Max Temperature (F)')\n",
    "\n",
    "# Calculate the correlation coefficient and linear regression model \n",
    "# for northern hemisphere and max temp\n",
    "correlation = st.pearsonr(slat, max_temp)\n",
    "print(f\"The correlation between the southern hemisphere's latitude and max temperature is {round(correlation[0],2)}\")\n",
    "\n",
    "#get linear regression equation\n",
    "(slope, intercept, rvalue, pvalue, stderr) = st.linregress(slat, max_temp)\n",
    "regress_values = slat * slope + intercept\n",
    "line_eq = \"y = \" + str(round(slope,2)) + \"x + \" + str(round(intercept,2))\n",
    "\n",
    "#add model to plot\n",
    "plt.plot(slat, regress_values, \"r-\")\n",
    "plt.annotate(line_eq, (15, 0), fontsize=15, color=\"red\")\n",
    "plt.show()"
   ]
  },
  {
   "cell_type": "markdown",
   "metadata": {},
   "source": [
    "####  Northern Hemisphere - Humidity (%) vs. Latitude Linear Regression"
   ]
  },
  {
   "cell_type": "code",
   "execution_count": 98,
   "metadata": {},
   "outputs": [
    {
     "name": "stdout",
     "output_type": "stream",
     "text": [
      "The correlation between the northern hemisphere's latitude and humidity is 0.34\n"
     ]
    },
    {
     "data": {
      "image/png": "[encoded data removed]",
      "text/plain": [
       "<Figure size 432x288 with 1 Axes>"
      ]
     },
     "metadata": {
      "needs_background": "light"
     },
     "output_type": "display_data"
    }
   ],
   "source": [
    "hum = northern_lat[\"Humidity\"]\n",
    "plt.scatter(nlat, hum)\n",
    "plt.title('City Latitude vs Humidity (03/25/2021)')\n",
    "plt.xlabel('Latitude')\n",
    "plt.ylabel('Humidity')\n",
    "\n",
    "# Calculate the correlation coefficient and linear regression model \n",
    "# for northern hemisphere and max temp\n",
    "correlation = st.pearsonr(nlat, hum)\n",
    "print(f\"The correlation between the northern hemisphere's latitude and humidity is {round(correlation[0],2)}\")\n",
    "\n",
    "#get linear regression equation\n",
    "(slope, intercept, rvalue, pvalue, stderr) = st.linregress(nlat, hum)\n",
    "regress_values = nlat * slope + intercept\n",
    "line_eq = \"y = \" + str(round(slope,2)) + \"x + \" + str(round(intercept,2))\n",
    "\n",
    "#add model to plot\n",
    "plt.plot(nlat, regress_values, \"r-\")\n",
    "plt.annotate(line_eq, (15, 0), fontsize=15, color=\"red\")\n",
    "plt.show()"
   ]
  },
  {
   "cell_type": "markdown",
   "metadata": {},
   "source": [
    "####  Southern Hemisphere - Humidity (%) vs. Latitude Linear Regression"
   ]
  },
  {
   "cell_type": "code",
   "execution_count": 99,
   "metadata": {},
   "outputs": [
    {
     "name": "stdout",
     "output_type": "stream",
     "text": [
      "The correlation between the southern hemisphere's latitude and humidity is 0.12\n"
     ]
    },
    {
     "data": {
      "image/png": "[encoded data removed]",
      "text/plain": [
       "<Figure size 432x288 with 1 Axes>"
      ]
     },
     "metadata": {
      "needs_background": "light"
     },
     "output_type": "display_data"
    }
   ],
   "source": [
    "hum = southern_lat[\"Humidity\"]\n",
    "plt.scatter(slat, hum)\n",
    "plt.title('City Latitude vs Humidity (03/25/2021)')\n",
    "plt.xlabel('Latitude')\n",
    "plt.ylabel('Humidity')\n",
    "\n",
    "# Calculate the correlation coefficient and linear regression model \n",
    "# for northern hemisphere and max temp\n",
    "correlation = st.pearsonr(slat, hum)\n",
    "print(f\"The correlation between the southern hemisphere's latitude and humidity is {round(correlation[0],2)}\")\n",
    "\n",
    "#get linear regression equation\n",
    "(slope, intercept, rvalue, pvalue, stderr) = st.linregress(slat, hum)\n",
    "regress_values = slat * slope + intercept\n",
    "line_eq = \"y = \" + str(round(slope,2)) + \"x + \" + str(round(intercept,2))\n",
    "\n",
    "#add model to plot\n",
    "plt.plot(slat, regress_values, \"r-\")\n",
    "plt.annotate(line_eq, (15, 0), fontsize=15, color=\"red\")\n",
    "plt.show()"
   ]
  },
  {
   "cell_type": "markdown",
   "metadata": {},
   "source": [
    "####  Northern Hemisphere - Cloudiness (%) vs. Latitude Linear Regression"
   ]
  },
  {
   "cell_type": "code",
   "execution_count": 100,
   "metadata": {},
   "outputs": [
    {
     "name": "stdout",
     "output_type": "stream",
     "text": [
      "The correlation between the northern hemisphere's latitude and cloudiness is 0.19\n"
     ]
    },
    {
     "data": {
      "image/png": "[encoded data removed]",
      "text/plain": [
       "<Figure size 432x288 with 1 Axes>"
      ]
     },
     "metadata": {
      "needs_background": "light"
     },
     "output_type": "display_data"
    }
   ],
   "source": [
    "cloud = northern_lat[\"Cloudiness\"]\n",
    "plt.scatter(nlat, cloud)\n",
    "plt.title('City Latitude vs Cloudiness (03/25/2021)')\n",
    "plt.xlabel('Latitude')\n",
    "plt.ylabel('Cloudiness')\n",
    "\n",
    "# Calculate the correlation coefficient and linear regression model \n",
    "# for northern hemisphere and max temp\n",
    "correlation = st.pearsonr(nlat, cloud)\n",
    "print(f\"The correlation between the northern hemisphere's latitude and cloudiness is {round(correlation[0],2)}\")\n",
    "\n",
    "#get linear regression equation\n",
    "(slope, intercept, rvalue, pvalue, stderr) = st.linregress(nlat, cloud)\n",
    "regress_values = nlat * slope + intercept\n",
    "line_eq = \"y = \" + str(round(slope,2)) + \"x + \" + str(round(intercept,2))\n",
    "\n",
    "#add model to plot\n",
    "plt.plot(nlat, regress_values, \"r-\")\n",
    "plt.annotate(line_eq, (15, 0), fontsize=15, color=\"red\")\n",
    "plt.show()"
   ]
  },
  {
   "cell_type": "markdown",
   "metadata": {},
   "source": [
    "####  Southern Hemisphere - Cloudiness (%) vs. Latitude Linear Regression"
   ]
  },
  {
   "cell_type": "code",
   "execution_count": 101,
   "metadata": {},
   "outputs": [
    {
     "name": "stdout",
     "output_type": "stream",
     "text": [
      "The correlation between the southern hemisphere's latitude and cloudiness is 0.14\n"
     ]
    },
    {
     "data": {
      "image/png": "[encoded data removed]",
      "text/plain": [
       "<Figure size 432x288 with 1 Axes>"
      ]
     },
     "metadata": {
      "needs_background": "light"
     },
     "output_type": "display_data"
    }
   ],
   "source": [
    "cloud = southern_lat[\"Cloudiness\"]\n",
    "plt.scatter(slat, cloud)\n",
    "plt.title('City Latitude vs Cloudiness (03/25/2021)')\n",
    "plt.xlabel('Latitude')\n",
    "plt.ylabel('Cloudiness')\n",
    "\n",
    "# Calculate the correlation coefficient and linear regression model \n",
    "# for northern hemisphere and max temp\n",
    "correlation = st.pearsonr(slat, cloud)\n",
    "print(f\"The correlation between the southern hemisphere's latitude and cloudiness is {round(correlation[0],2)}\")\n",
    "\n",
    "#get linear regression equation\n",
    "(slope, intercept, rvalue, pvalue, stderr) = st.linregress(slat, cloud)\n",
    "regress_values = slat * slope + intercept\n",
    "line_eq = \"y = \" + str(round(slope,2)) + \"x + \" + str(round(intercept,2))\n",
    "\n",
    "#add model to plot\n",
    "plt.plot(slat, regress_values, \"r-\")\n",
    "plt.annotate(line_eq, (15, 0), fontsize=15, color=\"red\")\n",
    "plt.show()"
   ]
  },
  {
   "cell_type": "markdown",
   "metadata": {},
   "source": [
    "####  Northern Hemisphere - Wind Speed (mph) vs. Latitude Linear Regression"
   ]
  },
  {
   "cell_type": "code",
   "execution_count": 102,
   "metadata": {},
   "outputs": [
    {
     "name": "stdout",
     "output_type": "stream",
     "text": [
      "The correlation between the northern hemisphere's latitude and wind speed is 0.04\n"
     ]
    },
    {
     "data": {
      "image/png": "[encoded data removed]",
      "text/plain": [
       "<Figure size 432x288 with 1 Axes>"
      ]
     },
     "metadata": {
      "needs_background": "light"
     },
     "output_type": "display_data"
    }
   ],
   "source": [
    "wind_sp = northern_lat[\"Wind Speed\"]\n",
    "plt.scatter(nlat,wind_sp)\n",
    "plt.title('City Latitude vs Max Temperature (03/25/2021)')\n",
    "plt.xlabel('Latitude')\n",
    "plt.ylabel('Wind Speed (mph)')\n",
    "\n",
    "# Calculate the correlation coefficient and linear regression model \n",
    "# for northern hemisphere and max temp\n",
    "correlation = st.pearsonr(nlat, wind_sp)\n",
    "print(f\"The correlation between the northern hemisphere's latitude and wind speed is {round(correlation[0],2)}\")\n",
    "\n",
    "#get linear regression equation\n",
    "(slope, intercept, rvalue, pvalue, stderr) = st.linregress(nlat, wind_sp)\n",
    "regress_values = nlat * slope + intercept\n",
    "line_eq = \"y = \" + str(round(slope,2)) + \"x + \" + str(round(intercept,2))\n",
    "\n",
    "#add model to plot\n",
    "plt.plot(nlat, regress_values, \"r-\")\n",
    "plt.annotate(line_eq, (15, 0), fontsize=15, color=\"red\")\n",
    "plt.show()"
   ]
  },
  {
   "cell_type": "markdown",
   "metadata": {},
   "source": [
    "####  Southern Hemisphere - Wind Speed (mph) vs. Latitude Linear Regression"
   ]
  },
  {
   "cell_type": "code",
   "execution_count": 103,
   "metadata": {},
   "outputs": [
    {
     "name": "stdout",
     "output_type": "stream",
     "text": [
      "The correlation between the southern hemisphere's latitude and wind speed is -0.23\n"
     ]
    },
    {
     "data": {
      "image/png": "[encoded data removed]",
      "text/plain": [
       "<Figure size 432x288 with 1 Axes>"
      ]
     },
     "metadata": {
      "needs_background": "light"
     },
     "output_type": "display_data"
    }
   ],
   "source": [
    "wind_sp = southern_lat[\"Wind Speed\"]\n",
    "plt.scatter(slat, wind_sp)\n",
    "plt.title('City Latitude vs Wind Speed (03/25/2021)')\n",
    "plt.xlabel('Latitude')\n",
    "plt.ylabel('Wind Speed (mph)')\n",
    "\n",
    "# Calculate the correlation coefficient and linear regression model \n",
    "# for northern hemisphere and max temp\n",
    "correlation = st.pearsonr(slat, wind_sp)\n",
    "print(f\"The correlation between the southern hemisphere's latitude and wind speed is {round(correlation[0],2)}\")\n",
    "\n",
    "#get linear regression equation\n",
    "(slope, intercept, rvalue, pvalue, stderr) = st.linregress(slat, wind_sp)\n",
    "regress_values = slat * slope + intercept\n",
    "line_eq = \"y = \" + str(round(slope,2)) + \"x + \" + str(round(intercept,2))\n",
    "\n",
    "#add model to plot\n",
    "plt.plot(slat, regress_values, \"r-\")\n",
    "plt.annotate(line_eq, (15, 0), fontsize=15, color=\"red\")\n",
    "plt.show()"
   ]
  },
  {
   "cell_type": "code",
   "execution_count": null,
   "metadata": {},
   "outputs": [],
   "source": []
  }
 ],
 "metadata": {
  "anaconda-cloud": {},
  "kernel_info": {
   "name": "python3"
  },
  "kernelspec": {
   "display_name": "Python 3",
   "language": "python",
   "name": "python3"
  },
  "language_info": {
   "codemirror_mode": {
    "name": "ipython",
    "version": 3
   },
   "file_extension": ".py",
   "mimetype": "text/x-python",
   "name": "python",
   "nbconvert_exporter": "python",
   "pygments_lexer": "ipython3",
   "version": "3.8.5"
  },
  "latex_envs": {
   "LaTeX_envs_menu_present": true,
   "autoclose": false,
   "autocomplete": true,
   "bibliofile": "biblio.bib",
   "cite_by": "apalike",
   "current_citInitial": 1,
   "eqLabelWithNumbers": true,
   "eqNumInitial": 1,
   "hotkeys": {
    "equation": "Ctrl-E",
    "itemize": "Ctrl-I"
   },
   "labels_anchors": false,
   "latex_user_defs": false,
   "report_style_numbering": false,
   "user_envs_cfg": false
  },
  "nteract": {
   "version": "0.12.3"
  }
 },
 "nbformat": 4,
 "nbformat_minor": 4
}
